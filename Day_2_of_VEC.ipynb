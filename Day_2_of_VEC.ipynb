{
  "nbformat": 4,
  "nbformat_minor": 0,
  "metadata": {
    "colab": {
      "provenance": []
    },
    "kernelspec": {
      "name": "python3",
      "display_name": "Python 3"
    },
    "language_info": {
      "name": "python"
    }
  },
  "cells": [
    {
      "cell_type": "code",
      "execution_count": 1,
      "metadata": {
        "colab": {
          "base_uri": "https://localhost:8080/"
        },
        "id": "YiwMaMnmZzm8",
        "outputId": "e984bfb3-10b9-4cfe-e943-4dd1147915a6"
      },
      "outputs": [
        {
          "output_type": "stream",
          "name": "stdout",
          "text": [
            "Hey VEC Students\n"
          ]
        }
      ],
      "source": [
        "print(\"Hey VEC Students\")"
      ]
    },
    {
      "cell_type": "code",
      "source": [
        "print('Hey all')"
      ],
      "metadata": {
        "colab": {
          "base_uri": "https://localhost:8080/"
        },
        "id": "vrmbiE0Xajox",
        "outputId": "ccbc08da-3d09-4949-a7ef-880ccbbeaa0a"
      },
      "execution_count": 2,
      "outputs": [
        {
          "output_type": "stream",
          "name": "stdout",
          "text": [
            "Hey all\n"
          ]
        }
      ]
    },
    {
      "cell_type": "markdown",
      "source": [
        "#Keywords"
      ],
      "metadata": {
        "id": "kQAweUG_avu5"
      }
    },
    {
      "cell_type": "markdown",
      "source": [
        "##Keywords are the special words that have specific meaning and purpose and you can't use this keywords in variables and functions"
      ],
      "metadata": {
        "id": "FRr8Dd-TayFu"
      }
    },
    {
      "cell_type": "code",
      "source": [
        "import keyword"
      ],
      "metadata": {
        "id": "j0MKlU57asVY"
      },
      "execution_count": 3,
      "outputs": []
    },
    {
      "cell_type": "code",
      "source": [
        "print(keyword.kwlist)"
      ],
      "metadata": {
        "colab": {
          "base_uri": "https://localhost:8080/"
        },
        "id": "5fBTW3kybLGh",
        "outputId": "3faa8fcf-07f8-4afa-e84b-5b1b1980f844"
      },
      "execution_count": 4,
      "outputs": [
        {
          "output_type": "stream",
          "name": "stdout",
          "text": [
            "['False', 'None', 'True', 'and', 'as', 'assert', 'async', 'await', 'break', 'class', 'continue', 'def', 'del', 'elif', 'else', 'except', 'finally', 'for', 'from', 'global', 'if', 'import', 'in', 'is', 'lambda', 'nonlocal', 'not', 'or', 'pass', 'raise', 'return', 'try', 'while', 'with', 'yield']\n"
          ]
        }
      ]
    },
    {
      "cell_type": "code",
      "source": [
        "age=12"
      ],
      "metadata": {
        "id": "2J-f4F0ObPg3"
      },
      "execution_count": 6,
      "outputs": []
    },
    {
      "cell_type": "markdown",
      "source": [
        "#Identifiers"
      ],
      "metadata": {
        "id": "kHfWzw_bbj4y"
      }
    },
    {
      "cell_type": "markdown",
      "source": [
        "##Identifiers in python are names you give to things like variables, functions & classes\n",
        "It should not start with numbers\n",
        "but it can include numbers, letters & underscores"
      ],
      "metadata": {
        "id": "e70_xfuLbmsj"
      }
    },
    {
      "cell_type": "code",
      "source": [
        "1list=5"
      ],
      "metadata": {
        "colab": {
          "base_uri": "https://localhost:8080/",
          "height": 106
        },
        "id": "0dJiTy-fbVeU",
        "outputId": "6048ea69-e147-42f2-cf20-4953f0f1195d"
      },
      "execution_count": 7,
      "outputs": [
        {
          "output_type": "error",
          "ename": "SyntaxError",
          "evalue": "invalid decimal literal (<ipython-input-7-82c49c880abc>, line 1)",
          "traceback": [
            "\u001b[0;36m  File \u001b[0;32m\"<ipython-input-7-82c49c880abc>\"\u001b[0;36m, line \u001b[0;32m1\u001b[0m\n\u001b[0;31m    1list=5\u001b[0m\n\u001b[0m    ^\u001b[0m\n\u001b[0;31mSyntaxError\u001b[0m\u001b[0;31m:\u001b[0m invalid decimal literal\n"
          ]
        }
      ]
    },
    {
      "cell_type": "code",
      "source": [
        "list1=5"
      ],
      "metadata": {
        "id": "7oLQndPAcPUZ"
      },
      "execution_count": 8,
      "outputs": []
    },
    {
      "cell_type": "code",
      "source": [
        "_list=5"
      ],
      "metadata": {
        "id": "5tZQ81DmcS-V"
      },
      "execution_count": 9,
      "outputs": []
    },
    {
      "cell_type": "markdown",
      "source": [
        "#Comments in python"
      ],
      "metadata": {
        "id": "3jBgHFWfcYhf"
      }
    },
    {
      "cell_type": "markdown",
      "source": [
        "Single line comment                                        \n",
        "Multi line comment"
      ],
      "metadata": {
        "id": "5kKLH_phcdfk"
      }
    },
    {
      "cell_type": "code",
      "source": [
        "print(2)\n",
        "# the print is the print statement"
      ],
      "metadata": {
        "colab": {
          "base_uri": "https://localhost:8080/"
        },
        "id": "mAA4SDYTcUnS",
        "outputId": "c4b2acac-81ce-47c8-e305-e2d89e742e9c"
      },
      "execution_count": 11,
      "outputs": [
        {
          "output_type": "stream",
          "name": "stdout",
          "text": [
            "2\n"
          ]
        }
      ]
    },
    {
      "cell_type": "code",
      "source": [
        "\"\"\"\n",
        "We are printing 2 number\n",
        "it is not assigned with any operation\n",
        "\"\"\"\n"
      ],
      "metadata": {
        "colab": {
          "base_uri": "https://localhost:8080/",
          "height": 35
        },
        "id": "tCvqCcQDcrGv",
        "outputId": "ee605671-654b-4d4c-8492-f3e6520a8e69"
      },
      "execution_count": 13,
      "outputs": [
        {
          "output_type": "execute_result",
          "data": {
            "text/plain": [
              "'\\nWe are printing 2 number\\nit is not assigned with any operation\\n'"
            ],
            "application/vnd.google.colaboratory.intrinsic+json": {
              "type": "string"
            }
          },
          "metadata": {},
          "execution_count": 13
        }
      ]
    },
    {
      "cell_type": "markdown",
      "source": [
        "#Statements"
      ],
      "metadata": {
        "id": "RNM_H7rkdKMo"
      }
    },
    {
      "cell_type": "markdown",
      "source": [
        "Single line Statement : Complete instruction that fits on one line"
      ],
      "metadata": {
        "id": "Nik67HHxdT0b"
      }
    },
    {
      "cell_type": "code",
      "source": [
        "names=['spandana', 'Kranthi', 'rajinikanth']\n",
        "names"
      ],
      "metadata": {
        "colab": {
          "base_uri": "https://localhost:8080/"
        },
        "id": "vN2AqQ_gc6ff",
        "outputId": "820d9fc6-0acd-4805-937c-0c6df0be8de9"
      },
      "execution_count": 15,
      "outputs": [
        {
          "output_type": "execute_result",
          "data": {
            "text/plain": [
              "['spandana', 'Kranthi', 'rajinikanth']"
            ]
          },
          "metadata": {},
          "execution_count": 15
        }
      ]
    },
    {
      "cell_type": "markdown",
      "source": [
        "Multi line Statement : usually involves more lines or complex logic"
      ],
      "metadata": {
        "id": "dmTdWaIfd2BY"
      }
    },
    {
      "cell_type": "code",
      "source": [
        "names=['spandana',\n",
        "       'Kranthi',\n",
        "       'rajinikanth']\n",
        "names"
      ],
      "metadata": {
        "colab": {
          "base_uri": "https://localhost:8080/"
        },
        "id": "9Pu6vWxWdsxc",
        "outputId": "d1909a38-d361-4f40-a4ff-65d7fbe15e32"
      },
      "execution_count": 17,
      "outputs": [
        {
          "output_type": "execute_result",
          "data": {
            "text/plain": [
              "['spandana', 'Kranthi', 'rajinikanth']"
            ]
          },
          "metadata": {},
          "execution_count": 17
        }
      ]
    },
    {
      "cell_type": "code",
      "source": [
        "num=10+30\\\n",
        "    +30+40\\\n",
        "    +40+60\n",
        "\n",
        "num"
      ],
      "metadata": {
        "colab": {
          "base_uri": "https://localhost:8080/"
        },
        "id": "bHT8kX0heHVq",
        "outputId": "f698256b-cbc0-412d-8f1f-dacab947fb44"
      },
      "execution_count": 19,
      "outputs": [
        {
          "output_type": "execute_result",
          "data": {
            "text/plain": [
              "210"
            ]
          },
          "metadata": {},
          "execution_count": 19
        }
      ]
    },
    {
      "cell_type": "markdown",
      "source": [
        "#Indentation"
      ],
      "metadata": {
        "id": "v18Cho4Ye5R5"
      }
    },
    {
      "cell_type": "markdown",
      "source": [
        "refers to the spaces or tabs at the beginning of the code"
      ],
      "metadata": {
        "id": "1FfTtBg7e9It"
      }
    },
    {
      "cell_type": "code",
      "source": [
        "x=10\n",
        "if x==10:\n",
        "  print('x is equal to 10')"
      ],
      "metadata": {
        "colab": {
          "base_uri": "https://localhost:8080/"
        },
        "id": "wCCFr9wvebUE",
        "outputId": "cbe5e579-98ae-4146-c513-22869af9f78f"
      },
      "execution_count": 20,
      "outputs": [
        {
          "output_type": "stream",
          "name": "stdout",
          "text": [
            "x is equal to 10\n"
          ]
        }
      ]
    },
    {
      "cell_type": "code",
      "source": [
        "x=10\n",
        "if x==10:\n",
        "print('x is equal to 10')"
      ],
      "metadata": {
        "colab": {
          "base_uri": "https://localhost:8080/",
          "height": 106
        },
        "id": "E-0NyOZjfX4e",
        "outputId": "c4921c65-d7fd-475b-ca8a-0ab2f62ab4cb"
      },
      "execution_count": 21,
      "outputs": [
        {
          "output_type": "error",
          "ename": "IndentationError",
          "evalue": "expected an indented block after 'if' statement on line 2 (<ipython-input-21-d8a1cde685c1>, line 3)",
          "traceback": [
            "\u001b[0;36m  File \u001b[0;32m\"<ipython-input-21-d8a1cde685c1>\"\u001b[0;36m, line \u001b[0;32m3\u001b[0m\n\u001b[0;31m    print('x is equal to 10')\u001b[0m\n\u001b[0m    ^\u001b[0m\n\u001b[0;31mIndentationError\u001b[0m\u001b[0;31m:\u001b[0m expected an indented block after 'if' statement on line 2\n"
          ]
        }
      ]
    },
    {
      "cell_type": "code",
      "source": [
        "for i in range(0,10):print(i)"
      ],
      "metadata": {
        "colab": {
          "base_uri": "https://localhost:8080/"
        },
        "id": "JmUZbk6GfccT",
        "outputId": "ec35dd1a-e2a4-4ed9-b05a-99559d229854"
      },
      "execution_count": 22,
      "outputs": [
        {
          "output_type": "stream",
          "name": "stdout",
          "text": [
            "0\n",
            "1\n",
            "2\n",
            "3\n",
            "4\n",
            "5\n",
            "6\n",
            "7\n",
            "8\n",
            "9\n"
          ]
        }
      ]
    },
    {
      "cell_type": "markdown",
      "source": [
        "#Variables"
      ],
      "metadata": {
        "id": "izMgNkTffvB8"
      }
    },
    {
      "cell_type": "markdown",
      "source": [
        "Used to strore data values                                   \n",
        "we should not use keywords                                                                   \n",
        "we should not use special characters"
      ],
      "metadata": {
        "id": "e9S1kB_jfyQ8"
      }
    },
    {
      "cell_type": "code",
      "source": [
        "City_name='warangal'"
      ],
      "metadata": {
        "id": "8dbvmScafkxx"
      },
      "execution_count": 23,
      "outputs": []
    },
    {
      "cell_type": "markdown",
      "source": [
        "#Variable Assigning"
      ],
      "metadata": {
        "id": "t1KiR3ZPgjVi"
      }
    },
    {
      "cell_type": "code",
      "source": [
        "x=5\n",
        "y=\"HEY VEC\"\n",
        "z=3.14"
      ],
      "metadata": {
        "id": "XrG1fIq7gmzd"
      },
      "execution_count": 24,
      "outputs": []
    },
    {
      "cell_type": "code",
      "source": [
        "print(z)\n",
        "print(x)\n",
        "print(y)"
      ],
      "metadata": {
        "colab": {
          "base_uri": "https://localhost:8080/"
        },
        "id": "LkqTPAB_g-sK",
        "outputId": "93efbb13-f06f-43ed-be53-bf7690d0a87e"
      },
      "execution_count": 26,
      "outputs": [
        {
          "output_type": "stream",
          "name": "stdout",
          "text": [
            "3.14\n",
            "5\n",
            "HEY VEC\n"
          ]
        }
      ]
    },
    {
      "cell_type": "markdown",
      "source": [
        "#Multiple Variable Assigning"
      ],
      "metadata": {
        "id": "JUhBbls-hVsf"
      }
    },
    {
      "cell_type": "code",
      "source": [
        "intvar,floatvar,stringvar=3,4.5,\"VEC\"\n",
        "print(floatvar)"
      ],
      "metadata": {
        "colab": {
          "base_uri": "https://localhost:8080/"
        },
        "id": "LfpfR7FOhFco",
        "outputId": "9b794d8c-4345-489a-e6f1-3e1326655eda"
      },
      "execution_count": 27,
      "outputs": [
        {
          "output_type": "stream",
          "name": "stdout",
          "text": [
            "4.5\n"
          ]
        }
      ]
    },
    {
      "cell_type": "markdown",
      "source": [
        "#Operators"
      ],
      "metadata": {
        "id": "X6edoOhUh9HS"
      }
    },
    {
      "cell_type": "code",
      "source": [
        "5+3"
      ],
      "metadata": {
        "colab": {
          "base_uri": "https://localhost:8080/"
        },
        "id": "fdT9XQzhhpT8",
        "outputId": "bf2b5069-ad97-4c78-f66a-e0aa089ae95b"
      },
      "execution_count": 28,
      "outputs": [
        {
          "output_type": "execute_result",
          "data": {
            "text/plain": [
              "8"
            ]
          },
          "metadata": {},
          "execution_count": 28
        }
      ]
    },
    {
      "cell_type": "code",
      "source": [
        "34%3"
      ],
      "metadata": {
        "colab": {
          "base_uri": "https://localhost:8080/"
        },
        "id": "oZekAIn6iRF6",
        "outputId": "d6976434-5cb5-42e6-f597-e015f7f8bfab"
      },
      "execution_count": 29,
      "outputs": [
        {
          "output_type": "execute_result",
          "data": {
            "text/plain": [
              "1"
            ]
          },
          "metadata": {},
          "execution_count": 29
        }
      ]
    },
    {
      "cell_type": "code",
      "source": [
        "5==5"
      ],
      "metadata": {
        "colab": {
          "base_uri": "https://localhost:8080/"
        },
        "id": "TfdFGh4yiTtr",
        "outputId": "0e4f7d4e-aaa7-4bd6-a14d-ea0ed3a3d261"
      },
      "execution_count": 30,
      "outputs": [
        {
          "output_type": "execute_result",
          "data": {
            "text/plain": [
              "True"
            ]
          },
          "metadata": {},
          "execution_count": 30
        }
      ]
    },
    {
      "cell_type": "code",
      "source": [
        "10>5"
      ],
      "metadata": {
        "colab": {
          "base_uri": "https://localhost:8080/"
        },
        "id": "gL6_U8Fgiekr",
        "outputId": "0eddb213-eb1d-4c8b-c70c-1ecd7f092a49"
      },
      "execution_count": 31,
      "outputs": [
        {
          "output_type": "execute_result",
          "data": {
            "text/plain": [
              "True"
            ]
          },
          "metadata": {},
          "execution_count": 31
        }
      ]
    },
    {
      "cell_type": "markdown",
      "source": [
        "#Data Types"
      ],
      "metadata": {
        "id": "O9s-rH9jitS5"
      }
    },
    {
      "cell_type": "markdown",
      "source": [
        "Numeric Data type"
      ],
      "metadata": {
        "id": "JrqZB72Di7wY"
      }
    },
    {
      "cell_type": "code",
      "source": [
        "var1=10\n",
        "var2=10.5\n",
        "var3=10+2J\n",
        "print(type(var1))\n",
        "print(type(var2))\n",
        "print(type(var3))"
      ],
      "metadata": {
        "colab": {
          "base_uri": "https://localhost:8080/"
        },
        "id": "0IUStUwUihKt",
        "outputId": "abda7937-058f-429b-a292-1a292032df50"
      },
      "execution_count": 33,
      "outputs": [
        {
          "output_type": "stream",
          "name": "stdout",
          "text": [
            "<class 'int'>\n",
            "<class 'float'>\n",
            "<class 'complex'>\n"
          ]
        }
      ]
    },
    {
      "cell_type": "markdown",
      "source": [
        "#Boolean"
      ],
      "metadata": {
        "id": "ByOkBF0ljXWp"
      }
    },
    {
      "cell_type": "code",
      "source": [
        "is_raining=True\n",
        "is_sunny=False\n",
        "print(is_raining and not is_sunny)"
      ],
      "metadata": {
        "colab": {
          "base_uri": "https://localhost:8080/"
        },
        "id": "vvwMafo0jLfR",
        "outputId": "4d67f0fd-e18a-4e8f-893f-ee0450a2aa15"
      },
      "execution_count": 34,
      "outputs": [
        {
          "output_type": "stream",
          "name": "stdout",
          "text": [
            "True\n"
          ]
        }
      ]
    },
    {
      "cell_type": "markdown",
      "source": [
        "#Strings"
      ],
      "metadata": {
        "id": "A185NPM3j_Yj"
      }
    },
    {
      "cell_type": "markdown",
      "source": [
        "Sequence of characters"
      ],
      "metadata": {
        "id": "rpPhA5w5kEkQ"
      }
    },
    {
      "cell_type": "code",
      "source": [
        "str=(\"Hello World\")\n",
        "str"
      ],
      "metadata": {
        "colab": {
          "base_uri": "https://localhost:8080/",
          "height": 35
        },
        "id": "_DnKchnDj19f",
        "outputId": "563797c6-2b52-4104-8395-74c62ede5980"
      },
      "execution_count": 35,
      "outputs": [
        {
          "output_type": "execute_result",
          "data": {
            "text/plain": [
              "'Hello World'"
            ],
            "application/vnd.google.colaboratory.intrinsic+json": {
              "type": "string"
            }
          },
          "metadata": {},
          "execution_count": 35
        }
      ]
    },
    {
      "cell_type": "markdown",
      "source": [
        "#String Indexing"
      ],
      "metadata": {
        "id": "JM2XV4ifk2nB"
      }
    },
    {
      "cell_type": "markdown",
      "source": [
        "The process of accessing individual characters within a string by their position or index"
      ],
      "metadata": {
        "id": "Gx7UBuWYk_nL"
      }
    },
    {
      "cell_type": "code",
      "source": [
        "str1=(\"Smartbridge\")"
      ],
      "metadata": {
        "id": "K1-UYz-3k4yf"
      },
      "execution_count": 40,
      "outputs": []
    },
    {
      "cell_type": "code",
      "source": [
        "str1[3]"
      ],
      "metadata": {
        "colab": {
          "base_uri": "https://localhost:8080/",
          "height": 35
        },
        "id": "yftqwfsjlNSN",
        "outputId": "41b84eac-b81b-4953-b0e9-c1aa1b7724f4"
      },
      "execution_count": 41,
      "outputs": [
        {
          "output_type": "execute_result",
          "data": {
            "text/plain": [
              "'r'"
            ],
            "application/vnd.google.colaboratory.intrinsic+json": {
              "type": "string"
            }
          },
          "metadata": {},
          "execution_count": 41
        }
      ]
    },
    {
      "cell_type": "code",
      "source": [
        "str1[-2]"
      ],
      "metadata": {
        "colab": {
          "base_uri": "https://localhost:8080/",
          "height": 35
        },
        "id": "SIDPiRUflVif",
        "outputId": "beb18763-2395-4823-e36a-1658cb42ce27"
      },
      "execution_count": 42,
      "outputs": [
        {
          "output_type": "execute_result",
          "data": {
            "text/plain": [
              "'g'"
            ],
            "application/vnd.google.colaboratory.intrinsic+json": {
              "type": "string"
            }
          },
          "metadata": {},
          "execution_count": 42
        }
      ]
    },
    {
      "cell_type": "code",
      "source": [
        "str1[10]"
      ],
      "metadata": {
        "colab": {
          "base_uri": "https://localhost:8080/",
          "height": 35
        },
        "id": "9TGwsgDclfZE",
        "outputId": "7638370b-fbc2-4265-9e73-6a8556698aab"
      },
      "execution_count": 43,
      "outputs": [
        {
          "output_type": "execute_result",
          "data": {
            "text/plain": [
              "'e'"
            ],
            "application/vnd.google.colaboratory.intrinsic+json": {
              "type": "string"
            }
          },
          "metadata": {},
          "execution_count": 43
        }
      ]
    },
    {
      "cell_type": "code",
      "source": [
        "str1[-1]"
      ],
      "metadata": {
        "colab": {
          "base_uri": "https://localhost:8080/",
          "height": 35
        },
        "id": "tWd4N4S5lm-K",
        "outputId": "ec84e9ad-94c2-4516-ecd8-4fe40f1cd4bc"
      },
      "execution_count": 44,
      "outputs": [
        {
          "output_type": "execute_result",
          "data": {
            "text/plain": [
              "'e'"
            ],
            "application/vnd.google.colaboratory.intrinsic+json": {
              "type": "string"
            }
          },
          "metadata": {},
          "execution_count": 44
        }
      ]
    },
    {
      "cell_type": "markdown",
      "source": [
        "#String Slicing"
      ],
      "metadata": {
        "id": "hlvMloX9lxR4"
      }
    },
    {
      "cell_type": "code",
      "source": [
        "str1"
      ],
      "metadata": {
        "colab": {
          "base_uri": "https://localhost:8080/",
          "height": 35
        },
        "id": "p3lW48d0l0Md",
        "outputId": "1667cb39-3505-42e6-98b2-fc723b88207f"
      },
      "execution_count": 45,
      "outputs": [
        {
          "output_type": "execute_result",
          "data": {
            "text/plain": [
              "'Smartbridge'"
            ],
            "application/vnd.google.colaboratory.intrinsic+json": {
              "type": "string"
            }
          },
          "metadata": {},
          "execution_count": 45
        }
      ]
    },
    {
      "cell_type": "code",
      "source": [
        "str1[0:3]"
      ],
      "metadata": {
        "colab": {
          "base_uri": "https://localhost:8080/",
          "height": 35
        },
        "id": "tQ9HjD-kmB0x",
        "outputId": "f6242470-1149-41e4-8858-ee29e20f3c9f"
      },
      "execution_count": 46,
      "outputs": [
        {
          "output_type": "execute_result",
          "data": {
            "text/plain": [
              "'Sma'"
            ],
            "application/vnd.google.colaboratory.intrinsic+json": {
              "type": "string"
            }
          },
          "metadata": {},
          "execution_count": 46
        }
      ]
    },
    {
      "cell_type": "code",
      "source": [
        "str1[-6:]"
      ],
      "metadata": {
        "colab": {
          "base_uri": "https://localhost:8080/",
          "height": 35
        },
        "id": "Po8BTq58mLnE",
        "outputId": "1e5038d2-4efc-4382-e46f-ed5a2886597d"
      },
      "execution_count": 47,
      "outputs": [
        {
          "output_type": "execute_result",
          "data": {
            "text/plain": [
              "'bridge'"
            ],
            "application/vnd.google.colaboratory.intrinsic+json": {
              "type": "string"
            }
          },
          "metadata": {},
          "execution_count": 47
        }
      ]
    },
    {
      "cell_type": "code",
      "source": [
        "str1[:5]"
      ],
      "metadata": {
        "colab": {
          "base_uri": "https://localhost:8080/",
          "height": 35
        },
        "id": "RFqGZUjZmVa5",
        "outputId": "da80f500-5a83-48bf-830e-f3d815cfe235"
      },
      "execution_count": 48,
      "outputs": [
        {
          "output_type": "execute_result",
          "data": {
            "text/plain": [
              "'Smart'"
            ],
            "application/vnd.google.colaboratory.intrinsic+json": {
              "type": "string"
            }
          },
          "metadata": {},
          "execution_count": 48
        }
      ]
    },
    {
      "cell_type": "code",
      "source": [
        "str1[1:]"
      ],
      "metadata": {
        "colab": {
          "base_uri": "https://localhost:8080/",
          "height": 35
        },
        "id": "FWcWBSOFmkwF",
        "outputId": "a6c5bb50-15a0-451f-8cdf-73e04d2fab30"
      },
      "execution_count": 49,
      "outputs": [
        {
          "output_type": "execute_result",
          "data": {
            "text/plain": [
              "'martbridge'"
            ],
            "application/vnd.google.colaboratory.intrinsic+json": {
              "type": "string"
            }
          },
          "metadata": {},
          "execution_count": 49
        }
      ]
    },
    {
      "cell_type": "code",
      "source": [
        "str1[0:]"
      ],
      "metadata": {
        "colab": {
          "base_uri": "https://localhost:8080/",
          "height": 35
        },
        "id": "su2nDcMImvW-",
        "outputId": "7a1f0f1f-6f49-4693-a34f-e630b51292cf"
      },
      "execution_count": 51,
      "outputs": [
        {
          "output_type": "execute_result",
          "data": {
            "text/plain": [
              "'Smartbridge'"
            ],
            "application/vnd.google.colaboratory.intrinsic+json": {
              "type": "string"
            }
          },
          "metadata": {},
          "execution_count": 51
        }
      ]
    },
    {
      "cell_type": "code",
      "source": [],
      "metadata": {
        "id": "EOhoBFCfnEwi"
      },
      "execution_count": null,
      "outputs": []
    }
  ]
}