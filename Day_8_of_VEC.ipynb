{
  "nbformat": 4,
  "nbformat_minor": 0,
  "metadata": {
    "colab": {
      "provenance": []
    },
    "kernelspec": {
      "name": "python3",
      "display_name": "Python 3"
    },
    "language_info": {
      "name": "python"
    }
  },
  "cells": [
    {
      "cell_type": "markdown",
      "source": [
        "# Tensorflow Basics"
      ],
      "metadata": {
        "id": "gn1UW-Vwsh3h"
      }
    },
    {
      "cell_type": "markdown",
      "source": [
        "TensorFlow is an end-to-end platform for machine learning. It supports the following:\n",
        "\n",
        "* Multidimensional-array based numeric computation (similar to <a href=\"https://numpy.org/\" class=\"external\">NumPy</a>.)\n",
        "* GPU and distributed processing\n",
        "* Automatic differentiation\n",
        "* Model construction, training, and export\n",
        "* And more"
      ],
      "metadata": {
        "id": "fJBrx1m8scrb"
      }
    },
    {
      "cell_type": "markdown",
      "source": [
        "## Tensors (Constant)\n"
      ],
      "metadata": {
        "id": "tJCt-fAOs2WC"
      }
    },
    {
      "cell_type": "markdown",
      "source": [
        "# Tensor -----> Container"
      ],
      "metadata": {
        "id": "wDezhRH8W2z0"
      }
    },
    {
      "cell_type": "markdown",
      "source": [
        "The most important attributes of a `tf.Tensor` are its `shape` and `dtype`:\n",
        "\n",
        "* `Tensor.shape`: tells you the size of the tensor along each of its axes.\n",
        "* `Tensor.dtype`: tells you the type of all the elements in the tensor."
      ],
      "metadata": {
        "id": "7BYRtXwes-PF"
      }
    },
    {
      "cell_type": "markdown",
      "source": [
        "### These ranks refer to the dimensions of tensors in TensorFlow:"
      ],
      "metadata": {
        "id": "FMWxI2x12mUT"
      }
    },
    {
      "cell_type": "markdown",
      "source": [
        "\n",
        "\n",
        "1. **Rank-0 Tensor (Scalar)**: Represents a single value, like a number on a number line.\n",
        "  \n",
        "2. **Rank-1 Tensor (Vector)**: Represents a list of values, like a sequence of numbers.\n",
        "  \n",
        "3. **Rank-2 Tensor (Matrix)**: Represents a grid of values, like a table with rows and columns.\n",
        "  \n",
        "4. **Rank-3 Tensor**: Represents a cube of values, like stacking multiple matrices together.\n",
        "\n",
        "5. **Higher Rank Tensors**: Represent even more complex structures, such as volumes of 3D data or collections of images."
      ],
      "metadata": {
        "id": "gUFzKe-jzjS5"
      }
    },
    {
      "cell_type": "code",
      "source": [
        "import tensorflow as tf"
      ],
      "metadata": {
        "id": "P-LzayZv8lnR"
      },
      "execution_count": 1,
      "outputs": []
    },
    {
      "cell_type": "code",
      "source": [
        "#Rank-0( Scaler)----> Contains a single value\n",
        "rank_0_tensor = tf.constant(4)\n",
        "print(rank_0_tensor)"
      ],
      "metadata": {
        "id": "rwvzC7K98lqn",
        "colab": {
          "base_uri": "https://localhost:8080/"
        },
        "outputId": "18a283ae-e3fa-42b8-b5a1-68266ab06c1f"
      },
      "execution_count": 2,
      "outputs": [
        {
          "output_type": "stream",
          "name": "stdout",
          "text": [
            "tf.Tensor(4, shape=(), dtype=int32)\n"
          ]
        }
      ]
    },
    {
      "cell_type": "code",
      "source": [
        "#Rank-1(vector)----> Contains list of values\n",
        "rank_1_tensor = tf.constant([2.0, 2, 3.0])\n",
        "rank_1_tensor"
      ],
      "metadata": {
        "id": "KuxAUf2z8ltm",
        "colab": {
          "base_uri": "https://localhost:8080/"
        },
        "outputId": "bb9acb7a-a981-4ad1-f93c-80816c7891b6"
      },
      "execution_count": 3,
      "outputs": [
        {
          "output_type": "execute_result",
          "data": {
            "text/plain": [
              "<tf.Tensor: shape=(3,), dtype=float32, numpy=array([2., 2., 3.], dtype=float32)>"
            ]
          },
          "metadata": {},
          "execution_count": 3
        }
      ]
    },
    {
      "cell_type": "code",
      "source": [
        "#Rank-2(Matrix)--->rows and columns\n",
        "rank_2_tensor = tf.constant([[1, 2] ,[3, 2], [4, 5]])\n",
        "rank_2_tensor"
      ],
      "metadata": {
        "id": "oQesoKVa8lxN",
        "colab": {
          "base_uri": "https://localhost:8080/"
        },
        "outputId": "44b66413-e197-458d-f578-e344df5c8c71"
      },
      "execution_count": 4,
      "outputs": [
        {
          "output_type": "execute_result",
          "data": {
            "text/plain": [
              "<tf.Tensor: shape=(3, 2), dtype=int32, numpy=\n",
              "array([[1, 2],\n",
              "       [3, 2],\n",
              "       [4, 5]], dtype=int32)>"
            ]
          },
          "metadata": {},
          "execution_count": 4
        }
      ]
    },
    {
      "cell_type": "code",
      "source": [
        "#Rank-3----> Collection of matrices\n",
        "rank_3_tensor = tf.constant([\n",
        "    [[0, 1, 2, 3, 4],\n",
        "     [5, 6, 7, 8, 9]],\n",
        "    [[10, 1, 23, 1, 3],\n",
        "     [15, 12, 1, 3, 4]],\n",
        "    [[20, 21, 23, 14, 1],\n",
        "     [23, 34, 12, 1, 2]],])\n",
        "rank_3_tensor"
      ],
      "metadata": {
        "id": "t7SL2ejJC8Ss",
        "colab": {
          "base_uri": "https://localhost:8080/"
        },
        "outputId": "022731d6-41ea-4959-c564-9bd689a0fd23"
      },
      "execution_count": 5,
      "outputs": [
        {
          "output_type": "execute_result",
          "data": {
            "text/plain": [
              "<tf.Tensor: shape=(3, 2, 5), dtype=int32, numpy=\n",
              "array([[[ 0,  1,  2,  3,  4],\n",
              "        [ 5,  6,  7,  8,  9]],\n",
              "\n",
              "       [[10,  1, 23,  1,  3],\n",
              "        [15, 12,  1,  3,  4]],\n",
              "\n",
              "       [[20, 21, 23, 14,  1],\n",
              "        [23, 34, 12,  1,  2]]], dtype=int32)>"
            ]
          },
          "metadata": {},
          "execution_count": 5
        }
      ]
    },
    {
      "cell_type": "markdown",
      "source": [
        "### Converting TensorFlow Tensors to NumPy Arrays"
      ],
      "metadata": {
        "id": "yf2-nbB-C8pY"
      }
    },
    {
      "cell_type": "code",
      "source": [
        "import numpy as np"
      ],
      "metadata": {
        "id": "c73PLiNiC-NR"
      },
      "execution_count": 6,
      "outputs": []
    },
    {
      "cell_type": "code",
      "source": [
        "np.array(rank_3_tensor)"
      ],
      "metadata": {
        "id": "Kpi_LDB4FI3i",
        "colab": {
          "base_uri": "https://localhost:8080/"
        },
        "outputId": "0cde99d1-6b36-4923-e584-8fa601bbedda"
      },
      "execution_count": 7,
      "outputs": [
        {
          "output_type": "execute_result",
          "data": {
            "text/plain": [
              "array([[[ 0,  1,  2,  3,  4],\n",
              "        [ 5,  6,  7,  8,  9]],\n",
              "\n",
              "       [[10,  1, 23,  1,  3],\n",
              "        [15, 12,  1,  3,  4]],\n",
              "\n",
              "       [[20, 21, 23, 14,  1],\n",
              "        [23, 34, 12,  1,  2]]], dtype=int32)"
            ]
          },
          "metadata": {},
          "execution_count": 7
        }
      ]
    },
    {
      "cell_type": "markdown",
      "source": [
        "# TensorFlow implements standard mathematical operations on tensors, as well as many operations specialized for machine learning.\n",
        "\n",
        "## Standard Mathematical Operations:\n",
        "### TensorFlow provides support for basic arithmetic operations such as addition, subtraction, multiplication, and division, which can be performed element-wise on tensors."
      ],
      "metadata": {
        "id": "t96kXl8lFJKv"
      }
    },
    {
      "cell_type": "code",
      "source": [
        "tensor_1 = tf.constant([[1, 2, 3],\n",
        "                       [4, 5, 6]])\n",
        "tensor_1"
      ],
      "metadata": {
        "id": "_mGACo9lHV8x",
        "colab": {
          "base_uri": "https://localhost:8080/"
        },
        "outputId": "17286837-59e2-46ee-d323-ac4248b40061"
      },
      "execution_count": 8,
      "outputs": [
        {
          "output_type": "execute_result",
          "data": {
            "text/plain": [
              "<tf.Tensor: shape=(2, 3), dtype=int32, numpy=\n",
              "array([[1, 2, 3],\n",
              "       [4, 5, 6]], dtype=int32)>"
            ]
          },
          "metadata": {},
          "execution_count": 8
        }
      ]
    },
    {
      "cell_type": "code",
      "source": [
        "tensor_2 = tf.constant([[11, 12, 13],\n",
        "                       [14, 15, 16]])\n",
        "tensor_2\n"
      ],
      "metadata": {
        "id": "iLG8dah_HV_r",
        "colab": {
          "base_uri": "https://localhost:8080/"
        },
        "outputId": "641b7a24-a56d-4952-b786-c91f86e97977"
      },
      "execution_count": 9,
      "outputs": [
        {
          "output_type": "execute_result",
          "data": {
            "text/plain": [
              "<tf.Tensor: shape=(2, 3), dtype=int32, numpy=\n",
              "array([[11, 12, 13],\n",
              "       [14, 15, 16]], dtype=int32)>"
            ]
          },
          "metadata": {},
          "execution_count": 9
        }
      ]
    },
    {
      "cell_type": "code",
      "source": [
        "tensor_3 = tf.constant([[21, 22, 23],\n",
        "                       [24, 25, 26]])\n",
        "tensor_3"
      ],
      "metadata": {
        "id": "bRuj0-L4HWCj",
        "colab": {
          "base_uri": "https://localhost:8080/"
        },
        "outputId": "c46c3915-d42f-4586-e031-9c31c9e8b213"
      },
      "execution_count": 10,
      "outputs": [
        {
          "output_type": "execute_result",
          "data": {
            "text/plain": [
              "<tf.Tensor: shape=(2, 3), dtype=int32, numpy=\n",
              "array([[21, 22, 23],\n",
              "       [24, 25, 26]], dtype=int32)>"
            ]
          },
          "metadata": {},
          "execution_count": 10
        }
      ]
    },
    {
      "cell_type": "code",
      "source": [
        "#Addition in Tensorflow\n",
        "tensor_1 + tensor_3"
      ],
      "metadata": {
        "id": "eOiLXTuzHWF3",
        "colab": {
          "base_uri": "https://localhost:8080/"
        },
        "outputId": "caf104f2-d919-41f6-b4d2-07e18044731f"
      },
      "execution_count": 11,
      "outputs": [
        {
          "output_type": "execute_result",
          "data": {
            "text/plain": [
              "<tf.Tensor: shape=(2, 3), dtype=int32, numpy=\n",
              "array([[22, 24, 26],\n",
              "       [28, 30, 32]], dtype=int32)>"
            ]
          },
          "metadata": {},
          "execution_count": 11
        }
      ]
    },
    {
      "cell_type": "code",
      "source": [
        "tensor_1 * tensor_3"
      ],
      "metadata": {
        "id": "WO7WzG8lGibb",
        "colab": {
          "base_uri": "https://localhost:8080/"
        },
        "outputId": "4b7dc1e4-dfc7-4466-82e1-0b8d53798ec6"
      },
      "execution_count": 12,
      "outputs": [
        {
          "output_type": "execute_result",
          "data": {
            "text/plain": [
              "<tf.Tensor: shape=(2, 3), dtype=int32, numpy=\n",
              "array([[ 21,  44,  69],\n",
              "       [ 96, 125, 156]], dtype=int32)>"
            ]
          },
          "metadata": {},
          "execution_count": 12
        }
      ]
    },
    {
      "cell_type": "code",
      "source": [
        "5 * tensor_3"
      ],
      "metadata": {
        "colab": {
          "base_uri": "https://localhost:8080/"
        },
        "id": "nvIWyowpesV9",
        "outputId": "ddc93940-4fe6-4788-c9d6-700ce8ddb8e7"
      },
      "execution_count": 13,
      "outputs": [
        {
          "output_type": "execute_result",
          "data": {
            "text/plain": [
              "<tf.Tensor: shape=(2, 3), dtype=int32, numpy=\n",
              "array([[105, 110, 115],\n",
              "       [120, 125, 130]], dtype=int32)>"
            ]
          },
          "metadata": {},
          "execution_count": 13
        }
      ]
    },
    {
      "cell_type": "code",
      "source": [
        "tf.transpose(tensor_3)"
      ],
      "metadata": {
        "colab": {
          "base_uri": "https://localhost:8080/"
        },
        "id": "3VyNZvhCesYm",
        "outputId": "e5978b85-1a00-481a-fd54-514d756d01aa"
      },
      "execution_count": 14,
      "outputs": [
        {
          "output_type": "execute_result",
          "data": {
            "text/plain": [
              "<tf.Tensor: shape=(3, 2), dtype=int32, numpy=\n",
              "array([[21, 24],\n",
              "       [22, 25],\n",
              "       [23, 26]], dtype=int32)>"
            ]
          },
          "metadata": {},
          "execution_count": 14
        }
      ]
    },
    {
      "cell_type": "code",
      "source": [
        "#Matrix Multiplication\n",
        "tf.matmul(tensor_1, tf.transpose(tensor_1))"
      ],
      "metadata": {
        "colab": {
          "base_uri": "https://localhost:8080/"
        },
        "id": "peZ9Z112esbM",
        "outputId": "0acd6921-79cc-474b-f39b-796d90df4729"
      },
      "execution_count": 15,
      "outputs": [
        {
          "output_type": "execute_result",
          "data": {
            "text/plain": [
              "<tf.Tensor: shape=(2, 2), dtype=int32, numpy=\n",
              "array([[14, 32],\n",
              "       [32, 77]], dtype=int32)>"
            ]
          },
          "metadata": {},
          "execution_count": 15
        }
      ]
    },
    {
      "cell_type": "code",
      "source": [
        "tf.concat([tensor_1, tensor_3], axis=0)"
      ],
      "metadata": {
        "colab": {
          "base_uri": "https://localhost:8080/"
        },
        "id": "klEDr_2Xesda",
        "outputId": "19b8ffe6-6435-4d90-99c2-0173d9391c43"
      },
      "execution_count": 16,
      "outputs": [
        {
          "output_type": "execute_result",
          "data": {
            "text/plain": [
              "<tf.Tensor: shape=(4, 3), dtype=int32, numpy=\n",
              "array([[ 1,  2,  3],\n",
              "       [ 4,  5,  6],\n",
              "       [21, 22, 23],\n",
              "       [24, 25, 26]], dtype=int32)>"
            ]
          },
          "metadata": {},
          "execution_count": 16
        }
      ]
    },
    {
      "cell_type": "markdown",
      "source": [
        "# Specialized Operations for Machine Learning:\n",
        "### TensorFlow offers operations specifically designed for machine learning tasks such as neural networks, optimization, loss functions, and more.\n"
      ],
      "metadata": {
        "id": "hEvbHr3I5p63"
      }
    },
    {
      "cell_type": "code",
      "source": [
        "import tensorflow as tf\n",
        "\n",
        "# Assuming tensor_1 is your input tensor\n",
        "# Make sure tensor_1 is properly defined with the correct shape and values\n",
        "\n",
        "# Cast tensor_1 to float32 if it's not already in float format\n",
        "tensor_1 = tf.cast(tensor_1, tf.float32)\n",
        "\n",
        "# Check for NaN or infinite values\n",
        "if tf.reduce_any(tf.math.is_nan(tensor_1)) or tf.reduce_any(tf.math.is_inf(tensor_1)):\n",
        "    print(\"Input tensor contains NaN or infinite values.\")\n",
        "else:\n",
        "    # Apply softmax along the appropriate axis (typically the last axis)\n",
        "    softmax_output = tf.nn.softmax(tensor_1, axis=-1)\n"
      ],
      "metadata": {
        "id": "hA9bwZ6p5sKj"
      },
      "execution_count": 19,
      "outputs": []
    },
    {
      "cell_type": "code",
      "source": [
        "tensor_1"
      ],
      "metadata": {
        "colab": {
          "base_uri": "https://localhost:8080/"
        },
        "id": "rVdw0-olhBXO",
        "outputId": "a6aefdb5-0133-4a6f-a847-a2eb2b759fc8"
      },
      "execution_count": 20,
      "outputs": [
        {
          "output_type": "execute_result",
          "data": {
            "text/plain": [
              "<tf.Tensor: shape=(2, 3), dtype=float32, numpy=\n",
              "array([[1., 2., 3.],\n",
              "       [4., 5., 6.]], dtype=float32)>"
            ]
          },
          "metadata": {},
          "execution_count": 20
        }
      ]
    },
    {
      "cell_type": "code",
      "source": [
        "tf.reduce_sum(tensor_1)"
      ],
      "metadata": {
        "colab": {
          "base_uri": "https://localhost:8080/"
        },
        "id": "BITO_AkWhBZ3",
        "outputId": "b941baf0-b8bb-4a66-a694-90264830a2d8"
      },
      "execution_count": 21,
      "outputs": [
        {
          "output_type": "execute_result",
          "data": {
            "text/plain": [
              "<tf.Tensor: shape=(), dtype=float32, numpy=21.0>"
            ]
          },
          "metadata": {},
          "execution_count": 21
        }
      ]
    },
    {
      "cell_type": "markdown",
      "source": [
        "# Variables"
      ],
      "metadata": {
        "id": "S5t5pXTdha8N"
      }
    },
    {
      "cell_type": "code",
      "source": [
        "import tensorflow as tf"
      ],
      "metadata": {
        "id": "Zy1PBOX7iMWA"
      },
      "execution_count": 22,
      "outputs": []
    },
    {
      "cell_type": "code",
      "source": [
        "var_1 = tf.Variable([0, 1.12, 0])\n",
        "var_1"
      ],
      "metadata": {
        "colab": {
          "base_uri": "https://localhost:8080/"
        },
        "id": "Y-ZWrun8hes-",
        "outputId": "626300a6-eddd-4000-9a85-2b595a832a5d"
      },
      "execution_count": 23,
      "outputs": [
        {
          "output_type": "execute_result",
          "data": {
            "text/plain": [
              "<tf.Variable 'Variable:0' shape=(3,) dtype=float32, numpy=array([0.  , 1.12, 0.  ], dtype=float32)>"
            ]
          },
          "metadata": {},
          "execution_count": 23
        }
      ]
    },
    {
      "cell_type": "markdown",
      "source": [
        "## Variable Assign"
      ],
      "metadata": {
        "id": "rkv_gbx_idjY"
      }
    },
    {
      "cell_type": "code",
      "source": [
        "var_1.assign([1, 2, 3])\n",
        "var_1"
      ],
      "metadata": {
        "colab": {
          "base_uri": "https://localhost:8080/"
        },
        "id": "FeuHWtuEigS6",
        "outputId": "888f3495-39e3-46d6-c18a-f58eaa906f71"
      },
      "execution_count": 24,
      "outputs": [
        {
          "output_type": "execute_result",
          "data": {
            "text/plain": [
              "<tf.Variable 'Variable:0' shape=(3,) dtype=float32, numpy=array([1., 2., 3.], dtype=float32)>"
            ]
          },
          "metadata": {},
          "execution_count": 24
        }
      ]
    },
    {
      "cell_type": "code",
      "source": [
        "var_1.assign_add([1, 5, 1])"
      ],
      "metadata": {
        "colab": {
          "base_uri": "https://localhost:8080/"
        },
        "id": "wnt1qg4nioIT",
        "outputId": "bdc57434-f7fa-4fd3-d18a-efee698c4f9a"
      },
      "execution_count": 25,
      "outputs": [
        {
          "output_type": "execute_result",
          "data": {
            "text/plain": [
              "<tf.Variable 'UnreadVariable' shape=(3,) dtype=float32, numpy=array([2., 7., 4.], dtype=float32)>"
            ]
          },
          "metadata": {},
          "execution_count": 25
        }
      ]
    },
    {
      "cell_type": "code",
      "source": [
        "var_1"
      ],
      "metadata": {
        "colab": {
          "base_uri": "https://localhost:8080/"
        },
        "id": "79cxq5A5imWj",
        "outputId": "f1673af4-ce5a-4635-d7c8-e19227913348"
      },
      "execution_count": 26,
      "outputs": [
        {
          "output_type": "execute_result",
          "data": {
            "text/plain": [
              "<tf.Variable 'Variable:0' shape=(3,) dtype=float32, numpy=array([2., 7., 4.], dtype=float32)>"
            ]
          },
          "metadata": {},
          "execution_count": 26
        }
      ]
    },
    {
      "cell_type": "code",
      "source": [
        "#Variable can be all kinds of types, just like tensors\n",
        "bool_variable = tf.Variable((False, True, False, True))\n",
        "bool_variable"
      ],
      "metadata": {
        "colab": {
          "base_uri": "https://localhost:8080/"
        },
        "id": "7Vf1Z8H3iyon",
        "outputId": "4732d06c-3854-4144-cba9-85373e0b2e1f"
      },
      "execution_count": 27,
      "outputs": [
        {
          "output_type": "execute_result",
          "data": {
            "text/plain": [
              "<tf.Variable 'Variable:0' shape=(4,) dtype=bool, numpy=array([False,  True, False,  True])>"
            ]
          },
          "metadata": {},
          "execution_count": 27
        }
      ]
    },
    {
      "cell_type": "code",
      "source": [
        "complex_variables = tf.Variable([5 + 4j, 6 + 1j])\n",
        "complex_variables"
      ],
      "metadata": {
        "colab": {
          "base_uri": "https://localhost:8080/"
        },
        "id": "mbxQUWDjjZsQ",
        "outputId": "91ef6d46-68f3-4010-ed77-7c7fc0489229"
      },
      "execution_count": 28,
      "outputs": [
        {
          "output_type": "execute_result",
          "data": {
            "text/plain": [
              "<tf.Variable 'Variable:0' shape=(2,) dtype=complex128, numpy=array([5.+4.j, 6.+1.j])>"
            ]
          },
          "metadata": {},
          "execution_count": 28
        }
      ]
    },
    {
      "cell_type": "code",
      "source": [
        "tf.convert_to_tensor(var_1)"
      ],
      "metadata": {
        "colab": {
          "base_uri": "https://localhost:8080/"
        },
        "id": "kbzr9da-jpFI",
        "outputId": "44122469-7069-417a-9941-0330f7838814"
      },
      "execution_count": 29,
      "outputs": [
        {
          "output_type": "execute_result",
          "data": {
            "text/plain": [
              "<tf.Tensor: shape=(3,), dtype=float32, numpy=array([2., 7., 4.], dtype=float32)>"
            ]
          },
          "metadata": {},
          "execution_count": 29
        }
      ]
    },
    {
      "cell_type": "code",
      "source": [
        "My_var = tf.constant([[21, 22],\n",
        "                       [24, 25]])"
      ],
      "metadata": {
        "id": "sSIALoq-kIlT"
      },
      "execution_count": 30,
      "outputs": []
    },
    {
      "cell_type": "code",
      "source": [
        "tf.convert_to_tensor(My_var)"
      ],
      "metadata": {
        "colab": {
          "base_uri": "https://localhost:8080/"
        },
        "id": "jb-k28YRki0h",
        "outputId": "78a12d83-250a-482e-96b5-961a81e441f9"
      },
      "execution_count": 31,
      "outputs": [
        {
          "output_type": "execute_result",
          "data": {
            "text/plain": [
              "<tf.Tensor: shape=(2, 2), dtype=int32, numpy=\n",
              "array([[21, 22],\n",
              "       [24, 25]], dtype=int32)>"
            ]
          },
          "metadata": {},
          "execution_count": 31
        }
      ]
    },
    {
      "cell_type": "code",
      "source": [
        "tf.reshape(My_var, [1,4])"
      ],
      "metadata": {
        "colab": {
          "base_uri": "https://localhost:8080/"
        },
        "id": "ge52c6JUjzud",
        "outputId": "5365912e-ce2a-4689-82f1-7f69f749ab9d"
      },
      "execution_count": 32,
      "outputs": [
        {
          "output_type": "execute_result",
          "data": {
            "text/plain": [
              "<tf.Tensor: shape=(1, 4), dtype=int32, numpy=array([[21, 22, 24, 25]], dtype=int32)>"
            ]
          },
          "metadata": {},
          "execution_count": 32
        }
      ]
    }
  ]
}