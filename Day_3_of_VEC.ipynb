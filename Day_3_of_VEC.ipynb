{
  "nbformat": 4,
  "nbformat_minor": 0,
  "metadata": {
    "colab": {
      "provenance": []
    },
    "kernelspec": {
      "name": "python3",
      "display_name": "Python 3"
    },
    "language_info": {
      "name": "python"
    }
  },
  "cells": [
    {
      "cell_type": "markdown",
      "source": [
        "#Data Types in Python\n",
        "#Numeric Types:                                                         \n",
        "##int:                                            \n",
        "Integer numbers, e.g., 5, -3, 1000.                            \n",
        "##float:\n",
        "Floating-point numbers, e.g., 3.14, -0.001, 2.0.                                                                                                                            \n",
        "#Sequence Types:                                                                     \n",
        "##string:\n",
        "Strings, e.g., \"hello\", 'python', \"123\".                                                           \n",
        "##list:\n",
        "Ordered collections of items, e.g., [1, 2, 3], ['apple', 'banana', 'orange'].                                        \n",
        "##tuple:\n",
        "Immutable ordered collections of items, e.g., (1, 2, 3), ('a', 'b', 'c').                                                                \n",
        "#Mapping Type:                                             \n",
        "###dict:                                          \n",
        "Collection of key-value pairs, e.g., {'name': 'Alice', 'age': 30}, {1: 'one', 2: 'two'}.                       \n",
        "###Set Types:\n",
        "\n",
        "set: Unordered collections of unique items, e.g., {1, 2, 3}, {'apple', 'orange', 'banana'}.                           \n",
        "frozenset: Immutable set, e.g., frozenset({1, 2, 3}).                                                               \n",
        "#Boolean Type:                                                      \n",
        "###bool:\n",
        "Represents truth values, either True or False.                                                                   \n",
        "###None Type:\n",
        "None: Represents the absence of a value or a null value."
      ],
      "metadata": {
        "id": "jc9wNa5Uuhbu"
      }
    },
    {
      "cell_type": "code",
      "source": [],
      "metadata": {
        "id": "oSn_hzCyuiW_"
      },
      "execution_count": null,
      "outputs": []
    },
    {
      "cell_type": "markdown",
      "source": [
        "#List -\n",
        "Encloses in Square brackers\n",
        "1. **Ordered**: Items in a list maintain their order.\n",
        "2. **Mutable**: Lists can be changed after creation.\n",
        "3. **Dynamic**: Lists can change in size as needed.\n",
        "4. **Heterogeneous**: Lists can contain different types of elements.\n",
        "5. **Indexed**: Elements in a list can be accessed by their position.\n",
        "6. **Common Operations**: Lists support various actions like adding, removing, and accessing elements.\n",
        "Allows Duplicates\n"
      ],
      "metadata": {
        "id": "2EINUrahGx0G"
      }
    },
    {
      "cell_type": "code",
      "source": [
        "numbers = [10, 20, 30, 40, 50]\n",
        "numbers"
      ],
      "metadata": {
        "colab": {
          "base_uri": "https://localhost:8080/"
        },
        "id": "ZmPunCU8Kfjf",
        "outputId": "e478befb-fabf-430a-885a-ddc71a4571f2"
      },
      "execution_count": 1,
      "outputs": [
        {
          "output_type": "execute_result",
          "data": {
            "text/plain": [
              "[10, 20, 30, 40, 50]"
            ]
          },
          "metadata": {},
          "execution_count": 1
        }
      ]
    },
    {
      "cell_type": "code",
      "source": [
        "#Modifying elements\n",
        "numbers[1] = 25\n",
        "numbers"
      ],
      "metadata": {
        "colab": {
          "base_uri": "https://localhost:8080/"
        },
        "id": "cIplsYpNKfmL",
        "outputId": "4293d0a5-365b-4208-dc9a-7351917db1b2"
      },
      "execution_count": 3,
      "outputs": [
        {
          "output_type": "execute_result",
          "data": {
            "text/plain": [
              "[10, 25, 30, 40, 50]"
            ]
          },
          "metadata": {},
          "execution_count": 3
        }
      ]
    },
    {
      "cell_type": "code",
      "source": [
        "#Adding Elements\n",
        "numbers.append(30)\n",
        "numbers"
      ],
      "metadata": {
        "colab": {
          "base_uri": "https://localhost:8080/"
        },
        "id": "EkagtqQmKfo0",
        "outputId": "e7cfcd8c-263a-41c6-86ed-e762bd3c7d81"
      },
      "execution_count": 4,
      "outputs": [
        {
          "output_type": "execute_result",
          "data": {
            "text/plain": [
              "[10, 25, 30, 40, 50, 30]"
            ]
          },
          "metadata": {},
          "execution_count": 4
        }
      ]
    },
    {
      "cell_type": "code",
      "source": [
        "#Removing Element\n",
        "numbers.remove(30)\n",
        "numbers"
      ],
      "metadata": {
        "colab": {
          "base_uri": "https://localhost:8080/"
        },
        "id": "uhAcyU3kKfrU",
        "outputId": "ce4e4e2d-877e-4329-f6dc-ef480587b08d"
      },
      "execution_count": 5,
      "outputs": [
        {
          "output_type": "execute_result",
          "data": {
            "text/plain": [
              "[10, 25, 40, 50, 30]"
            ]
          },
          "metadata": {},
          "execution_count": 5
        }
      ]
    },
    {
      "cell_type": "code",
      "source": [
        "#indexing\n",
        "my_list = [10, \"hello VEC\", 3.3, True]"
      ],
      "metadata": {
        "id": "L9JOd6zlKft0"
      },
      "execution_count": 8,
      "outputs": []
    },
    {
      "cell_type": "code",
      "source": [
        "print(my_list[1])"
      ],
      "metadata": {
        "colab": {
          "base_uri": "https://localhost:8080/"
        },
        "id": "nRIgeAobKfwK",
        "outputId": "903f6e80-bd5b-4e84-d22a-5914fe0b177f"
      },
      "execution_count": 9,
      "outputs": [
        {
          "output_type": "stream",
          "name": "stdout",
          "text": [
            "hello VEC\n"
          ]
        }
      ]
    },
    {
      "cell_type": "code",
      "source": [
        "#Slicing\n",
        "print(my_list[1:3])"
      ],
      "metadata": {
        "colab": {
          "base_uri": "https://localhost:8080/"
        },
        "id": "JREIgcnUKfzC",
        "outputId": "f3379392-815d-4898-e1b8-ec2090e214db"
      },
      "execution_count": 10,
      "outputs": [
        {
          "output_type": "stream",
          "name": "stdout",
          "text": [
            "['hello VEC', 3.3]\n"
          ]
        }
      ]
    },
    {
      "cell_type": "code",
      "source": [
        "print(my_list[-1:])"
      ],
      "metadata": {
        "colab": {
          "base_uri": "https://localhost:8080/"
        },
        "id": "n1cn1QWeKf1b",
        "outputId": "99f77e00-1b60-412d-c7cf-7da22730bdbb"
      },
      "execution_count": 11,
      "outputs": [
        {
          "output_type": "stream",
          "name": "stdout",
          "text": [
            "[True]\n"
          ]
        }
      ]
    },
    {
      "cell_type": "markdown",
      "source": [
        "#Tuple\n",
        "tuples are often enclosed within parentheses ()\n",
        "1. **Ordered**: Like lists, tuples maintain the order of elements.\n",
        "2. **Immutable**: Unlike lists, tuples are immutable, meaning once they are created, their elements cannot be changed, added, or removed.\n",
        "3. **Fixed Size:** Tuples have a fixed size after creation. You can't resize them like lists.\n",
        "4. **Heterogeneous:** Tuples, like lists, can contain elements of different data types.\n",
        "5. **Indexed:** Elements in a tuple can be accessed using their index."
      ],
      "metadata": {
        "id": "JPncfSVEKggD"
      }
    },
    {
      "cell_type": "code",
      "source": [
        "my_tuple = (1, \"hello\", 3.14, True)\n",
        "my_tuple"
      ],
      "metadata": {
        "colab": {
          "base_uri": "https://localhost:8080/"
        },
        "id": "WeDf_4iYLFen",
        "outputId": "196dcda9-a8ac-44f7-aa5a-9b9792dea631"
      },
      "execution_count": 13,
      "outputs": [
        {
          "output_type": "execute_result",
          "data": {
            "text/plain": [
              "(1, 'hello', 3.14, True)"
            ]
          },
          "metadata": {},
          "execution_count": 13
        }
      ]
    },
    {
      "cell_type": "code",
      "source": [
        "print(my_tuple[1])"
      ],
      "metadata": {
        "colab": {
          "base_uri": "https://localhost:8080/"
        },
        "id": "ndG9yttnNo_l",
        "outputId": "5a23ed53-0d8b-474e-8147-2be968147fcb"
      },
      "execution_count": 14,
      "outputs": [
        {
          "output_type": "stream",
          "name": "stdout",
          "text": [
            "hello\n"
          ]
        }
      ]
    },
    {
      "cell_type": "code",
      "source": [
        "my_tuple[0]=2"
      ],
      "metadata": {
        "colab": {
          "base_uri": "https://localhost:8080/",
          "height": 141
        },
        "id": "1trVyPeYNpDA",
        "outputId": "4d222247-b364-429f-e98f-190e28de5307"
      },
      "execution_count": 15,
      "outputs": [
        {
          "output_type": "error",
          "ename": "TypeError",
          "evalue": "'tuple' object does not support item assignment",
          "traceback": [
            "\u001b[0;31m---------------------------------------------------------------------------\u001b[0m",
            "\u001b[0;31mTypeError\u001b[0m                                 Traceback (most recent call last)",
            "\u001b[0;32m<ipython-input-15-4aa82b4d325a>\u001b[0m in \u001b[0;36m<cell line: 1>\u001b[0;34m()\u001b[0m\n\u001b[0;32m----> 1\u001b[0;31m \u001b[0mmy_tuple\u001b[0m\u001b[0;34m[\u001b[0m\u001b[0;36m0\u001b[0m\u001b[0;34m]\u001b[0m\u001b[0;34m=\u001b[0m\u001b[0;36m2\u001b[0m\u001b[0;34m\u001b[0m\u001b[0;34m\u001b[0m\u001b[0m\n\u001b[0m",
            "\u001b[0;31mTypeError\u001b[0m: 'tuple' object does not support item assignment"
          ]
        }
      ]
    },
    {
      "cell_type": "markdown",
      "source": [
        "##Dictionary\n",
        "1. **Key-Value Pairs**: Each element in a mapping pairs a unique key with its corresponding value.\n",
        "2. **Unordered**: The arrangement of elements in mappings doesn't follow a specific order.\n",
        "3. **Mutable**: Most mapping types allow modifications such as adding, removing, or changing key-value pairs after creation.\n",
        "4. **Keys are Unique**: Each key within a mapping must be distinct; attempting to add a duplicate key overwrites the existing value.\n",
        "5. **Heterogeneous Values**: Mappings can accommodate values of various data types, including numbers, strings, lists, tuples, or even other mappings."
      ],
      "metadata": {
        "id": "7Sm3Od6wNpcp"
      }
    },
    {
      "cell_type": "code",
      "source": [
        "my_dict={'name':\"VEC\", \"number of student\" : 2000, 'city': 'warangal'}\n",
        "my_dict"
      ],
      "metadata": {
        "colab": {
          "base_uri": "https://localhost:8080/"
        },
        "id": "emqd-PMKSxct",
        "outputId": "ac1885d2-4158-413d-b64b-03ed233f8a9b"
      },
      "execution_count": 17,
      "outputs": [
        {
          "output_type": "execute_result",
          "data": {
            "text/plain": [
              "{'name': 'VEC', 'number of student': 2000, 'city': 'warangal'}"
            ]
          },
          "metadata": {},
          "execution_count": 17
        }
      ]
    },
    {
      "cell_type": "code",
      "source": [
        "#Accessing Values\n",
        "print(my_dict['city'])"
      ],
      "metadata": {
        "colab": {
          "base_uri": "https://localhost:8080/"
        },
        "id": "4ExJjrHbUenZ",
        "outputId": "88277b97-f79c-406a-c11c-4d3452d54b7c"
      },
      "execution_count": 20,
      "outputs": [
        {
          "output_type": "stream",
          "name": "stdout",
          "text": [
            "warangal\n"
          ]
        }
      ]
    },
    {
      "cell_type": "code",
      "source": [
        "#Adding a new key-value pair\n",
        "my_dict[\"about\"]=\"Good\"\n",
        "my_dict"
      ],
      "metadata": {
        "colab": {
          "base_uri": "https://localhost:8080/"
        },
        "id": "nggpW1C_UeqJ",
        "outputId": "51059964-c5fb-457b-e525-ee0b892cfed4"
      },
      "execution_count": 21,
      "outputs": [
        {
          "output_type": "execute_result",
          "data": {
            "text/plain": [
              "{'name': 'VEC', 'number of student': 2000, 'city': 'warangal', 'about': 'Good'}"
            ]
          },
          "metadata": {},
          "execution_count": 21
        }
      ]
    },
    {
      "cell_type": "code",
      "source": [
        "#Modifying a value\n",
        "my_dict[\"number of student\"]=5000\n",
        "my_dict"
      ],
      "metadata": {
        "colab": {
          "base_uri": "https://localhost:8080/"
        },
        "id": "pESvqx2xUesp",
        "outputId": "dea414f1-ce5d-44f0-958b-299749ffa210"
      },
      "execution_count": 23,
      "outputs": [
        {
          "output_type": "execute_result",
          "data": {
            "text/plain": [
              "{'name': 'VEC', 'number of student': 5000, 'city': 'warangal', 'about': 'Good'}"
            ]
          },
          "metadata": {},
          "execution_count": 23
        }
      ]
    },
    {
      "cell_type": "code",
      "source": [
        "#removing a key value pair\n",
        "del my_dict['about']\n",
        "my_dict"
      ],
      "metadata": {
        "colab": {
          "base_uri": "https://localhost:8080/"
        },
        "id": "x9MhpiWmUewD",
        "outputId": "fdd22006-64ef-4517-d0d0-cbb1595184e7"
      },
      "execution_count": 24,
      "outputs": [
        {
          "output_type": "execute_result",
          "data": {
            "text/plain": [
              "{'name': 'VEC', 'number of student': 5000, 'city': 'warangal'}"
            ]
          },
          "metadata": {},
          "execution_count": 24
        }
      ]
    },
    {
      "cell_type": "code",
      "source": [
        "my_dict={'name':\"VEC\", \"number of student\" : 2000, 'city': 'warangal', \"name1\" : \"KITS\"}\n",
        "my_dict"
      ],
      "metadata": {
        "colab": {
          "base_uri": "https://localhost:8080/"
        },
        "id": "mNdqFHcDyR9V",
        "outputId": "c8ba81d7-64c0-47ca-f8a6-bda716029514"
      },
      "execution_count": 28,
      "outputs": [
        {
          "output_type": "execute_result",
          "data": {
            "text/plain": [
              "{'name': 'VEC', 'number of student': 2000, 'city': 'warangal', 'name1': 'KITS'}"
            ]
          },
          "metadata": {},
          "execution_count": 28
        }
      ]
    },
    {
      "cell_type": "markdown",
      "source": [
        "##Sets\n",
        "sets are commonly enclosed within curly braces {}\n",
        "\n",
        "- **Unique Elements**: Sets don't allow repeats; if you try to add something already there, nothing changes.\n",
        "- **Unordered**: The order of stuff in a set doesn't matter; it can change unpredictably.\n",
        "- **Mutable**: You can add or remove things from a set after creating it.\n",
        "- **No Indexing**: You can't pick stuff out of a set by position.\n",
        "- **Heterogeneous**: Sets can hold different types of things."
      ],
      "metadata": {
        "id": "wO6YoyyKUgGZ"
      }
    },
    {
      "cell_type": "code",
      "source": [
        "set={7, 8, 3, 4, 5}\n",
        "set"
      ],
      "metadata": {
        "colab": {
          "base_uri": "https://localhost:8080/"
        },
        "id": "McVld7CUVGEl",
        "outputId": "14cc25a3-72e7-4775-fca9-c3b04b692495"
      },
      "execution_count": 33,
      "outputs": [
        {
          "output_type": "execute_result",
          "data": {
            "text/plain": [
              "{3, 4, 5, 7, 8}"
            ]
          },
          "metadata": {},
          "execution_count": 33
        }
      ]
    },
    {
      "cell_type": "code",
      "source": [
        "#Adding elements in set\n",
        "set.add(1)\n",
        "set"
      ],
      "metadata": {
        "colab": {
          "base_uri": "https://localhost:8080/"
        },
        "id": "XMkVFDXcj-q1",
        "outputId": "4d850859-2f04-40ea-ae03-1a02f27a0c39"
      },
      "execution_count": 34,
      "outputs": [
        {
          "output_type": "execute_result",
          "data": {
            "text/plain": [
              "{1, 3, 4, 5, 7, 8}"
            ]
          },
          "metadata": {},
          "execution_count": 34
        }
      ]
    },
    {
      "cell_type": "code",
      "source": [
        "set.remove(3)\n",
        "set"
      ],
      "metadata": {
        "colab": {
          "base_uri": "https://localhost:8080/"
        },
        "id": "Z4i0Uu1dj-tf",
        "outputId": "82a5f725-db6c-4684-b001-682e1c663b04"
      },
      "execution_count": 32,
      "outputs": [
        {
          "output_type": "execute_result",
          "data": {
            "text/plain": [
              "{1, 2, 4, 5, 6}"
            ]
          },
          "metadata": {},
          "execution_count": 32
        }
      ]
    },
    {
      "cell_type": "code",
      "source": [
        "set.add(1)\n",
        "set"
      ],
      "metadata": {
        "colab": {
          "base_uri": "https://localhost:8080/"
        },
        "id": "-NuHJ2lQj-wY",
        "outputId": "6680de33-7d9b-4f70-fe61-499f144115d5"
      },
      "execution_count": 35,
      "outputs": [
        {
          "output_type": "execute_result",
          "data": {
            "text/plain": [
              "{1, 3, 4, 5, 7, 8}"
            ]
          },
          "metadata": {},
          "execution_count": 35
        }
      ]
    },
    {
      "cell_type": "code",
      "source": [
        "set={34, 56, 35, 25}\n",
        "print(set[0])"
      ],
      "metadata": {
        "colab": {
          "base_uri": "https://localhost:8080/",
          "height": 159
        },
        "id": "Qfqiry7Qj-y9",
        "outputId": "e06a9882-b532-4910-cd26-865fea68555c"
      },
      "execution_count": 36,
      "outputs": [
        {
          "output_type": "error",
          "ename": "TypeError",
          "evalue": "'set' object is not subscriptable",
          "traceback": [
            "\u001b[0;31m---------------------------------------------------------------------------\u001b[0m",
            "\u001b[0;31mTypeError\u001b[0m                                 Traceback (most recent call last)",
            "\u001b[0;32m<ipython-input-36-2139530b9516>\u001b[0m in \u001b[0;36m<cell line: 2>\u001b[0;34m()\u001b[0m\n\u001b[1;32m      1\u001b[0m \u001b[0mset\u001b[0m\u001b[0;34m=\u001b[0m\u001b[0;34m{\u001b[0m\u001b[0;36m34\u001b[0m\u001b[0;34m,\u001b[0m \u001b[0;36m56\u001b[0m\u001b[0;34m,\u001b[0m \u001b[0;36m35\u001b[0m\u001b[0;34m,\u001b[0m \u001b[0;36m25\u001b[0m\u001b[0;34m}\u001b[0m\u001b[0;34m\u001b[0m\u001b[0;34m\u001b[0m\u001b[0m\n\u001b[0;32m----> 2\u001b[0;31m \u001b[0mprint\u001b[0m\u001b[0;34m(\u001b[0m\u001b[0mset\u001b[0m\u001b[0;34m[\u001b[0m\u001b[0;36m0\u001b[0m\u001b[0;34m]\u001b[0m\u001b[0;34m)\u001b[0m\u001b[0;34m\u001b[0m\u001b[0;34m\u001b[0m\u001b[0m\n\u001b[0m",
            "\u001b[0;31mTypeError\u001b[0m: 'set' object is not subscriptable"
          ]
        }
      ]
    },
    {
      "cell_type": "markdown",
      "source": [
        "##Conditional Constructs"
      ],
      "metadata": {
        "id": "ah2nXoGHkAJq"
      }
    },
    {
      "cell_type": "markdown",
      "source": [
        "##If statement:\n",
        "Executes a block of code only if a specified condition is true."
      ],
      "metadata": {
        "id": "SsqtI9ZLkJ_g"
      }
    },
    {
      "cell_type": "code",
      "source": [
        "x=10\n",
        "if x > 5:\n",
        "  print(\"x is greath than 5\")"
      ],
      "metadata": {
        "colab": {
          "base_uri": "https://localhost:8080/"
        },
        "id": "3Bv_yEA3kPIn",
        "outputId": "aacc044f-465e-4bb1-b63f-962d18b9817f"
      },
      "execution_count": 37,
      "outputs": [
        {
          "output_type": "stream",
          "name": "stdout",
          "text": [
            "x is greath than 5\n"
          ]
        }
      ]
    },
    {
      "cell_type": "code",
      "source": [],
      "metadata": {
        "id": "x-MnnNgH4LWj"
      },
      "execution_count": null,
      "outputs": []
    },
    {
      "cell_type": "markdown",
      "source": [
        "##If-else statement:\n",
        "Executes one block of code if a condition is true and another block if it's false."
      ],
      "metadata": {
        "id": "ytnA8t0TkRRk"
      }
    },
    {
      "cell_type": "code",
      "source": [
        "x=22\n",
        "if x > 50:\n",
        "  print(\"x is greathan than 50\")\n",
        "else:\n",
        "  print(\"x is not greater than 50\")"
      ],
      "metadata": {
        "colab": {
          "base_uri": "https://localhost:8080/"
        },
        "id": "sNVO3x5wkW-q",
        "outputId": "e1f9fabf-9635-4067-d69a-9827f1163607"
      },
      "execution_count": 38,
      "outputs": [
        {
          "output_type": "stream",
          "name": "stdout",
          "text": [
            "x is not greater than 50\n"
          ]
        }
      ]
    },
    {
      "cell_type": "markdown",
      "source": [
        "##If-elif-else statement:\n",
        "Allows you to check multiple conditions and execute different blocks of code accordingly.\n"
      ],
      "metadata": {
        "id": "3fEzg8hIkYIy"
      }
    },
    {
      "cell_type": "code",
      "source": [
        "x=22\n",
        "if x > 50:\n",
        "  print(\"x is greathan than 50\")\n",
        "elif  x==22:\n",
        "  print(\"x is equal to 22\")\n",
        "else:\n",
        "  print(\"x is not greater than 50\")\n"
      ],
      "metadata": {
        "colab": {
          "base_uri": "https://localhost:8080/"
        },
        "id": "A6KMVoyAkbFw",
        "outputId": "b2016ed2-3a7d-424c-c3d1-98576550ff38"
      },
      "execution_count": 39,
      "outputs": [
        {
          "output_type": "stream",
          "name": "stdout",
          "text": [
            "x is equal to 22\n"
          ]
        }
      ]
    },
    {
      "cell_type": "code",
      "source": [
        "my_list=[1,2,3,4,5]\n",
        "for  item in my_list:\n",
        "  print(item)"
      ],
      "metadata": {
        "colab": {
          "base_uri": "https://localhost:8080/"
        },
        "id": "LP0IRPt33zvi",
        "outputId": "8cd28ac0-21b2-46d8-db73-4ba44a53783c"
      },
      "execution_count": 40,
      "outputs": [
        {
          "output_type": "stream",
          "name": "stdout",
          "text": [
            "1\n",
            "2\n",
            "3\n",
            "4\n",
            "5\n"
          ]
        }
      ]
    },
    {
      "cell_type": "code",
      "source": [
        "user_input=input(\"Enter number: \")\n",
        "print(\"Entered:\", user_input)"
      ],
      "metadata": {
        "colab": {
          "base_uri": "https://localhost:8080/"
        },
        "id": "H0g_elCU5LMM",
        "outputId": "51c191d8-8f4e-4809-de3a-cf57ec7050fa"
      },
      "execution_count": 41,
      "outputs": [
        {
          "output_type": "stream",
          "name": "stdout",
          "text": [
            "Enter number: 3\n",
            "Entered: 3\n"
          ]
        }
      ]
    },
    {
      "cell_type": "code",
      "source": [
        "class Person:\n",
        "    def __init__(self, name, age):\n",
        "        self.name = name\n",
        "        self.age = age\n",
        "\n",
        "    def introduce(self):\n",
        "        print(\"Hello, My name is\", self.name, \"and I am\", self.age, \"years old.\")\n",
        "\n",
        "person1 = Person(\"Ganesh\", 22)\n",
        "person1.introduce()\n"
      ],
      "metadata": {
        "colab": {
          "base_uri": "https://localhost:8080/"
        },
        "id": "QNR2E2H05ltU",
        "outputId": "10d04e4f-4784-4f77-e21f-3048b530c569"
      },
      "execution_count": 49,
      "outputs": [
        {
          "output_type": "stream",
          "name": "stdout",
          "text": [
            "Hello, My name is Ganesh and I am 22 years old.\n"
          ]
        }
      ]
    },
    {
      "cell_type": "code",
      "source": [],
      "metadata": {
        "id": "1V6TSdVB6qnc"
      },
      "execution_count": null,
      "outputs": []
    }
  ]
}