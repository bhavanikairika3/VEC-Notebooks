{
  "nbformat": 4,
  "nbformat_minor": 0,
  "metadata": {
    "colab": {
      "provenance": []
    },
    "kernelspec": {
      "name": "python3",
      "display_name": "Python 3"
    },
    "language_info": {
      "name": "python"
    }
  },
  "cells": [
    {
      "cell_type": "markdown",
      "source": [
        "##Numpy\n",
        " It provides efficient data structures and functions for working with arrays and matrices, making it essential for scientific computing tasks."
      ],
      "metadata": {
        "id": "TjJKUkoocIqC"
      }
    },
    {
      "cell_type": "code",
      "source": [
        "import numpy as np"
      ],
      "metadata": {
        "id": "HjxmFt4ffXB2"
      },
      "execution_count": null,
      "outputs": []
    },
    {
      "cell_type": "code",
      "source": [
        "ages=np.array([22, 35, 40, 45, 50])\n",
        "ages"
      ],
      "metadata": {
        "colab": {
          "base_uri": "https://localhost:8080/"
        },
        "id": "CmKoIrQI_fj3",
        "outputId": "842dd56a-cc35-4a94-e806-a0c65ce0ef41"
      },
      "execution_count": null,
      "outputs": [
        {
          "output_type": "execute_result",
          "data": {
            "text/plain": [
              "array([22, 35, 40, 45, 50])"
            ]
          },
          "metadata": {},
          "execution_count": 27
        }
      ]
    },
    {
      "cell_type": "markdown",
      "source": [
        "##Array Attributes:\n",
        "After creating an array, you can access its attributes such as dimensions, shape, and data type\n"
      ],
      "metadata": {
        "id": "rIZzXjcwg3GD"
      }
    },
    {
      "cell_type": "code",
      "source": [
        "#dimensions\n",
        "print(ages.ndim)"
      ],
      "metadata": {
        "colab": {
          "base_uri": "https://localhost:8080/"
        },
        "id": "jvH7m1xD_etQ",
        "outputId": "d619153b-cfaf-4c62-ab98-8e6b227a887d"
      },
      "execution_count": null,
      "outputs": [
        {
          "output_type": "stream",
          "name": "stdout",
          "text": [
            "1\n"
          ]
        }
      ]
    },
    {
      "cell_type": "code",
      "source": [
        "print(ages.shape)"
      ],
      "metadata": {
        "colab": {
          "base_uri": "https://localhost:8080/"
        },
        "id": "xC81ldL0g-lV",
        "outputId": "4de7a2cb-0239-4bc1-9c22-1724a7dd0edf"
      },
      "execution_count": null,
      "outputs": [
        {
          "output_type": "stream",
          "name": "stdout",
          "text": [
            "(5,)\n"
          ]
        }
      ]
    },
    {
      "cell_type": "code",
      "source": [
        "print(ages.dtype)"
      ],
      "metadata": {
        "colab": {
          "base_uri": "https://localhost:8080/"
        },
        "id": "yvrifdivhCJu",
        "outputId": "2d5239fc-dc0a-4f1e-8544-17ddb98cab84"
      },
      "execution_count": null,
      "outputs": [
        {
          "output_type": "stream",
          "name": "stdout",
          "text": [
            "int64\n"
          ]
        }
      ]
    },
    {
      "cell_type": "markdown",
      "source": [
        "##Creating Arrays with arange\n",
        "To create arrays with a range of values"
      ],
      "metadata": {
        "id": "1aZyJvhYhIGd"
      }
    },
    {
      "cell_type": "code",
      "source": [
        "np.arange(0, 10)"
      ],
      "metadata": {
        "colab": {
          "base_uri": "https://localhost:8080/"
        },
        "id": "I9NyVtSJhIoR",
        "outputId": "002890e1-eb18-409e-b546-351c94c8cc80"
      },
      "execution_count": null,
      "outputs": [
        {
          "output_type": "execute_result",
          "data": {
            "text/plain": [
              "array([0, 1, 2, 3, 4, 5, 6, 7, 8, 9])"
            ]
          },
          "metadata": {},
          "execution_count": 34
        }
      ]
    },
    {
      "cell_type": "code",
      "source": [
        "np.arange(13, 50, 2)"
      ],
      "metadata": {
        "colab": {
          "base_uri": "https://localhost:8080/"
        },
        "id": "wFOyp0XPhemR",
        "outputId": "40fd49e3-4192-45c0-f308-9c0fde2de21e"
      },
      "execution_count": null,
      "outputs": [
        {
          "output_type": "execute_result",
          "data": {
            "text/plain": [
              "array([13, 15, 17, 19, 21, 23, 25, 27, 29, 31, 33, 35, 37, 39, 41, 43, 45,\n",
              "       47, 49])"
            ]
          },
          "metadata": {},
          "execution_count": 35
        }
      ]
    },
    {
      "cell_type": "code",
      "source": [
        "np.arange(1, 100, 5)"
      ],
      "metadata": {
        "colab": {
          "base_uri": "https://localhost:8080/"
        },
        "id": "FbsCjQ8JhepR",
        "outputId": "d9a7f7cb-1260-43bf-8628-fc7a9be0a67f"
      },
      "execution_count": null,
      "outputs": [
        {
          "output_type": "execute_result",
          "data": {
            "text/plain": [
              "array([ 1,  6, 11, 16, 21, 26, 31, 36, 41, 46, 51, 56, 61, 66, 71, 76, 81,\n",
              "       86, 91, 96])"
            ]
          },
          "metadata": {},
          "execution_count": 36
        }
      ]
    },
    {
      "cell_type": "markdown",
      "source": [
        "##Creating Arrays with linspace"
      ],
      "metadata": {
        "id": "6WUUhG-bhe79"
      }
    },
    {
      "cell_type": "code",
      "source": [
        "np.linspace(0, 100, 10)"
      ],
      "metadata": {
        "colab": {
          "base_uri": "https://localhost:8080/"
        },
        "id": "fzJfkrVIhk70",
        "outputId": "4bed1dbd-2349-4780-9ffb-b52fb50a3c73"
      },
      "execution_count": null,
      "outputs": [
        {
          "output_type": "execute_result",
          "data": {
            "text/plain": [
              "array([  0.        ,  11.11111111,  22.22222222,  33.33333333,\n",
              "        44.44444444,  55.55555556,  66.66666667,  77.77777778,\n",
              "        88.88888889, 100.        ])"
            ]
          },
          "metadata": {},
          "execution_count": 37
        }
      ]
    },
    {
      "cell_type": "markdown",
      "source": [
        "##Creating Arrays with Specific Values"
      ],
      "metadata": {
        "id": "3NHBHLTQjKZ0"
      }
    },
    {
      "cell_type": "code",
      "source": [
        "np.zeros(10)"
      ],
      "metadata": {
        "colab": {
          "base_uri": "https://localhost:8080/"
        },
        "id": "f3AYDL99kGcc",
        "outputId": "944665a6-d5ee-40e0-ab9d-beb64f28a2dc"
      },
      "execution_count": null,
      "outputs": [
        {
          "output_type": "execute_result",
          "data": {
            "text/plain": [
              "array([0., 0., 0., 0., 0., 0., 0., 0., 0., 0.])"
            ]
          },
          "metadata": {},
          "execution_count": 40
        }
      ]
    },
    {
      "cell_type": "code",
      "source": [
        "np.ones(10)"
      ],
      "metadata": {
        "colab": {
          "base_uri": "https://localhost:8080/"
        },
        "id": "11hJtV3okjWn",
        "outputId": "294da503-54e7-4c86-de48-e57d610df5f6"
      },
      "execution_count": null,
      "outputs": [
        {
          "output_type": "execute_result",
          "data": {
            "text/plain": [
              "array([1., 1., 1., 1., 1., 1., 1., 1., 1., 1.])"
            ]
          },
          "metadata": {},
          "execution_count": 41
        }
      ]
    },
    {
      "cell_type": "markdown",
      "source": [
        "##Accessing, Modifying Elements & Slicing"
      ],
      "metadata": {
        "id": "10Ms6O7LkkBy"
      }
    },
    {
      "cell_type": "code",
      "source": [
        "arr=np.arr([1, 2, 3, 4, 5])"
      ],
      "metadata": {
        "id": "vTbbBQpzsf6p"
      },
      "execution_count": null,
      "outputs": []
    },
    {
      "cell_type": "code",
      "source": [
        "# Acessing Element\n",
        "print(arr[0])"
      ],
      "metadata": {
        "colab": {
          "base_uri": "https://localhost:8080/"
        },
        "id": "4emI6dhYssxk",
        "outputId": "5f3360c1-00df-4b7c-c3b0-c08083183440"
      },
      "execution_count": null,
      "outputs": [
        {
          "output_type": "stream",
          "name": "stdout",
          "text": [
            "1\n"
          ]
        }
      ]
    },
    {
      "cell_type": "code",
      "source": [
        "#Modifing Elements\n",
        "arr[1:4]=1\n",
        "arr"
      ],
      "metadata": {
        "colab": {
          "base_uri": "https://localhost:8080/"
        },
        "id": "WCO4-EXEss0d",
        "outputId": "7b9907ff-7ca8-482a-9018-baf02fcd5341"
      },
      "execution_count": null,
      "outputs": [
        {
          "output_type": "execute_result",
          "data": {
            "text/plain": [
              "array([1, 1, 1, 1, 5])"
            ]
          },
          "metadata": {},
          "execution_count": 44
        }
      ]
    },
    {
      "cell_type": "code",
      "source": [
        "#Positive Slicing\n",
        "arr[0:3]"
      ],
      "metadata": {
        "colab": {
          "base_uri": "https://localhost:8080/"
        },
        "id": "KvHgv7aYDlFo",
        "outputId": "dc704964-3b9f-4d15-c26b-0e9bab6ec7fc"
      },
      "execution_count": null,
      "outputs": [
        {
          "output_type": "execute_result",
          "data": {
            "text/plain": [
              "array([1, 1, 1])"
            ]
          },
          "metadata": {},
          "execution_count": 45
        }
      ]
    },
    {
      "cell_type": "code",
      "source": [
        "#Negative Slicing\n",
        "arr[-3]"
      ],
      "metadata": {
        "colab": {
          "base_uri": "https://localhost:8080/"
        },
        "id": "UlcCK6TQDlIE",
        "outputId": "c9bedbe0-41a4-4a44-8a35-a458c9d593bc"
      },
      "execution_count": null,
      "outputs": [
        {
          "output_type": "execute_result",
          "data": {
            "text/plain": [
              "1"
            ]
          },
          "metadata": {},
          "execution_count": 48
        }
      ]
    },
    {
      "cell_type": "markdown",
      "source": [
        "##Creating Multi-dimensional Arrays:"
      ],
      "metadata": {
        "id": "bCDinUvDtfpr"
      }
    },
    {
      "cell_type": "code",
      "source": [
        "a = np.array([[1,2,3,4],[4,5,4,5]])\n",
        "a"
      ],
      "metadata": {
        "colab": {
          "base_uri": "https://localhost:8080/"
        },
        "id": "hloRfRy2tmyW",
        "outputId": "219b2739-c3cd-4d7f-cb80-4a9ceff977a2"
      },
      "execution_count": null,
      "outputs": [
        {
          "output_type": "execute_result",
          "data": {
            "text/plain": [
              "array([[1, 2, 3, 4],\n",
              "       [4, 5, 4, 5]])"
            ]
          },
          "metadata": {},
          "execution_count": 49
        }
      ]
    },
    {
      "cell_type": "code",
      "source": [
        "print(a.ndim)"
      ],
      "metadata": {
        "colab": {
          "base_uri": "https://localhost:8080/"
        },
        "id": "ZxbaXc-aujsS",
        "outputId": "fdd1f086-804c-43e3-bab0-0aac398e0c6c"
      },
      "execution_count": null,
      "outputs": [
        {
          "output_type": "stream",
          "name": "stdout",
          "text": [
            "2\n"
          ]
        }
      ]
    },
    {
      "cell_type": "code",
      "source": [
        "_3d=np.array([[[1,2,3,4],[4,5,6,7],[61,17,8,9]]])\n",
        "_3d"
      ],
      "metadata": {
        "colab": {
          "base_uri": "https://localhost:8080/"
        },
        "id": "ezbXwD2Kuju1",
        "outputId": "7e6369d1-1130-450c-d26b-ce6b3840ad22"
      },
      "execution_count": null,
      "outputs": [
        {
          "output_type": "execute_result",
          "data": {
            "text/plain": [
              "array([[[ 1,  2,  3,  4],\n",
              "        [ 4,  5,  6,  7],\n",
              "        [61, 17,  8,  9]]])"
            ]
          },
          "metadata": {},
          "execution_count": 51
        }
      ]
    },
    {
      "cell_type": "code",
      "source": [
        "print(_3d.ndim)"
      ],
      "metadata": {
        "colab": {
          "base_uri": "https://localhost:8080/"
        },
        "id": "ARrVmQuuujxT",
        "outputId": "123bbd61-e8c1-4121-c920-372d6e564670"
      },
      "execution_count": null,
      "outputs": [
        {
          "output_type": "stream",
          "name": "stdout",
          "text": [
            "3\n"
          ]
        }
      ]
    },
    {
      "cell_type": "markdown",
      "source": [
        "##Accessing Elements of Multi-dimensional Arrays:"
      ],
      "metadata": {
        "id": "NMFaZm6rukGa"
      }
    },
    {
      "cell_type": "code",
      "source": [
        "#Accessing Elements\n",
        "print(_3d[0, 1, 2])"
      ],
      "metadata": {
        "colab": {
          "base_uri": "https://localhost:8080/"
        },
        "id": "TcQH5GBBwf_y",
        "outputId": "741b0fbe-e9df-48a2-b712-92e5db7ade5e"
      },
      "execution_count": null,
      "outputs": [
        {
          "output_type": "stream",
          "name": "stdout",
          "text": [
            "6\n"
          ]
        }
      ]
    },
    {
      "cell_type": "code",
      "source": [
        "print(_3d[0,2,2])"
      ],
      "metadata": {
        "colab": {
          "base_uri": "https://localhost:8080/"
        },
        "id": "VMXsqXv-wgCj",
        "outputId": "ad4ec179-9547-4303-afe8-3ce5fd3705f3"
      },
      "execution_count": null,
      "outputs": [
        {
          "output_type": "stream",
          "name": "stdout",
          "text": [
            "8\n"
          ]
        }
      ]
    },
    {
      "cell_type": "code",
      "source": [
        "print(_3d[0,0,1])"
      ],
      "metadata": {
        "colab": {
          "base_uri": "https://localhost:8080/"
        },
        "id": "MP1_f1tjwgFE",
        "outputId": "ce355657-309d-451a-9153-e570648af841"
      },
      "execution_count": null,
      "outputs": [
        {
          "output_type": "stream",
          "name": "stdout",
          "text": [
            "2\n"
          ]
        }
      ]
    },
    {
      "cell_type": "code",
      "source": [
        "_3d[:, -2]"
      ],
      "metadata": {
        "colab": {
          "base_uri": "https://localhost:8080/"
        },
        "id": "rEPwzhegwgHv",
        "outputId": "78735f96-0144-4179-b970-fef716810091"
      },
      "execution_count": null,
      "outputs": [
        {
          "output_type": "execute_result",
          "data": {
            "text/plain": [
              "array([[4, 5, 6, 7]])"
            ]
          },
          "metadata": {},
          "execution_count": 58
        }
      ]
    },
    {
      "cell_type": "code",
      "source": [
        "_3d[:, :, -1]"
      ],
      "metadata": {
        "colab": {
          "base_uri": "https://localhost:8080/"
        },
        "id": "QFyCeJrQydz2",
        "outputId": "92562652-810a-4e4f-9c1c-53d5f1c53e4f"
      },
      "execution_count": null,
      "outputs": [
        {
          "output_type": "execute_result",
          "data": {
            "text/plain": [
              "array([[4, 7, 9]])"
            ]
          },
          "metadata": {},
          "execution_count": 62
        }
      ]
    },
    {
      "cell_type": "code",
      "source": [
        "print(_3d[:, :, 2])"
      ],
      "metadata": {
        "colab": {
          "base_uri": "https://localhost:8080/"
        },
        "id": "3EtVbl8FIbsY",
        "outputId": "8bb55092-b750-4146-aa8c-2180ee6c2d42"
      },
      "execution_count": null,
      "outputs": [
        {
          "output_type": "stream",
          "name": "stdout",
          "text": [
            "[[3 6 8]]\n"
          ]
        }
      ]
    },
    {
      "cell_type": "markdown",
      "source": [
        "##Mathematical functions"
      ],
      "metadata": {
        "id": "U1QQcIAjyhoY"
      }
    },
    {
      "cell_type": "code",
      "source": [
        "arr=np.array([1, 2, 3, 4, 5])\n",
        "arr"
      ],
      "metadata": {
        "colab": {
          "base_uri": "https://localhost:8080/"
        },
        "id": "us4GRv3v0E-6",
        "outputId": "c00d0e24-0d58-4fe4-da25-06b0745c1162"
      },
      "execution_count": null,
      "outputs": [
        {
          "output_type": "execute_result",
          "data": {
            "text/plain": [
              "array([1, 2, 3, 4, 5])"
            ]
          },
          "metadata": {},
          "execution_count": 66
        }
      ]
    },
    {
      "cell_type": "code",
      "source": [
        "sin_arr = np.sin(arr)\n",
        "sin_arr"
      ],
      "metadata": {
        "colab": {
          "base_uri": "https://localhost:8080/"
        },
        "id": "RIMkqJV_0HV9",
        "outputId": "f0611a33-147d-4e06-ebb0-2649f90dcb10"
      },
      "execution_count": null,
      "outputs": [
        {
          "output_type": "execute_result",
          "data": {
            "text/plain": [
              "array([ 0.84147098,  0.90929743,  0.14112001, -0.7568025 , -0.95892427])"
            ]
          },
          "metadata": {},
          "execution_count": 70
        }
      ]
    },
    {
      "cell_type": "code",
      "source": [
        "cos_arr = np.cos(arr)\n",
        "cos_arr"
      ],
      "metadata": {
        "colab": {
          "base_uri": "https://localhost:8080/"
        },
        "id": "qoQ8MfWk0HYx",
        "outputId": "92afbaca-98a4-4e47-be5f-c1b769ea81d3"
      },
      "execution_count": null,
      "outputs": [
        {
          "output_type": "execute_result",
          "data": {
            "text/plain": [
              "array([ 0.54030231, -0.41614684, -0.9899925 , -0.65364362,  0.28366219])"
            ]
          },
          "metadata": {},
          "execution_count": 72
        }
      ]
    },
    {
      "cell_type": "code",
      "source": [
        "tan_arr = np.tan(arr)\n",
        "tan_arr"
      ],
      "metadata": {
        "colab": {
          "base_uri": "https://localhost:8080/"
        },
        "id": "9y1RjDsb0HbZ",
        "outputId": "144cf888-5152-4d9d-b004-949076b8aef2"
      },
      "execution_count": null,
      "outputs": [
        {
          "output_type": "execute_result",
          "data": {
            "text/plain": [
              "array([ 1.55740772, -2.18503986, -0.14254654,  1.15782128, -3.38051501])"
            ]
          },
          "metadata": {},
          "execution_count": 73
        }
      ]
    },
    {
      "cell_type": "code",
      "source": [
        "log_arr = np.log(arr)\n",
        "log_arr"
      ],
      "metadata": {
        "colab": {
          "base_uri": "https://localhost:8080/"
        },
        "id": "ZWFSBLqJLBVP",
        "outputId": "149c557a-5f93-48b0-c799-2663d4a7d6ac"
      },
      "execution_count": null,
      "outputs": [
        {
          "output_type": "execute_result",
          "data": {
            "text/plain": [
              "array([0.        , 0.69314718, 1.09861229, 1.38629436, 1.60943791])"
            ]
          },
          "metadata": {},
          "execution_count": 74
        }
      ]
    },
    {
      "cell_type": "code",
      "source": [
        "exp_arr = np.exp(arr)\n",
        "exp_arr"
      ],
      "metadata": {
        "colab": {
          "base_uri": "https://localhost:8080/"
        },
        "id": "4SwsIbFLLBXw",
        "outputId": "3905d9c1-2e45-4d73-c661-037fa384d5f4"
      },
      "execution_count": null,
      "outputs": [
        {
          "output_type": "execute_result",
          "data": {
            "text/plain": [
              "array([  2.71828183,   7.3890561 ,  20.08553692,  54.59815003,\n",
              "       148.4131591 ])"
            ]
          },
          "metadata": {},
          "execution_count": 75
        }
      ]
    },
    {
      "cell_type": "code",
      "source": [
        "arr=np.array([1, 2, 3, 4, 5])\n",
        "np.sqrt(arr)"
      ],
      "metadata": {
        "colab": {
          "base_uri": "https://localhost:8080/"
        },
        "id": "8DiGweyLLwGG",
        "outputId": "1364fcd2-a75b-46a6-ff1a-292072743175"
      },
      "execution_count": 12,
      "outputs": [
        {
          "output_type": "execute_result",
          "data": {
            "text/plain": [
              "array([1.        , 1.41421356, 1.73205081, 2.        , 2.23606798])"
            ]
          },
          "metadata": {},
          "execution_count": 12
        }
      ]
    },
    {
      "cell_type": "markdown",
      "source": [
        "##Broadcasting\n"
      ],
      "metadata": {
        "id": "tnD1UG060JFj"
      }
    },
    {
      "cell_type": "code",
      "source": [
        "arr1=np.array([[1, 2, 3], [4, 5, 6]])\n",
        "arr2=np.array([10, 20, 30])"
      ],
      "metadata": {
        "id": "OzZqCBSg0Mhy"
      },
      "execution_count": null,
      "outputs": []
    },
    {
      "cell_type": "code",
      "source": [
        "result=arr1+arr2"
      ],
      "metadata": {
        "id": "bU5Se72m0NRi"
      },
      "execution_count": null,
      "outputs": []
    },
    {
      "cell_type": "code",
      "source": [
        "print(result)"
      ],
      "metadata": {
        "colab": {
          "base_uri": "https://localhost:8080/"
        },
        "id": "Loq2THKF0NU9",
        "outputId": "6527d12e-d19c-4808-978b-23481d6b9f45"
      },
      "execution_count": null,
      "outputs": [
        {
          "output_type": "stream",
          "name": "stdout",
          "text": [
            "[[11 22 33]\n",
            " [14 25 36]]\n"
          ]
        }
      ]
    },
    {
      "cell_type": "markdown",
      "source": [
        "##Linear algebra operations"
      ],
      "metadata": {
        "id": "4E7k1NTj0NwV"
      }
    },
    {
      "cell_type": "code",
      "source": [
        "A = np.array([[1, 2], [3, 4]])\n",
        "B = np.array([[5, 6], [7, 8]])"
      ],
      "metadata": {
        "id": "fLfIrnrZ0R06"
      },
      "execution_count": null,
      "outputs": []
    },
    {
      "cell_type": "code",
      "source": [
        "C = np.dot(A, B)"
      ],
      "metadata": {
        "id": "XcL31vJx0Sjt"
      },
      "execution_count": null,
      "outputs": []
    },
    {
      "cell_type": "code",
      "source": [
        "C"
      ],
      "metadata": {
        "colab": {
          "base_uri": "https://localhost:8080/"
        },
        "id": "yhDdyG2q0Sr8",
        "outputId": "733007d3-c841-4362-eec0-4b840ebf72ed"
      },
      "execution_count": null,
      "outputs": [
        {
          "output_type": "execute_result",
          "data": {
            "text/plain": [
              "array([[19, 22],\n",
              "       [43, 50]])"
            ]
          },
          "metadata": {},
          "execution_count": 81
        }
      ]
    },
    {
      "cell_type": "code",
      "source": [
        "import numpy as np"
      ],
      "metadata": {
        "id": "WcPjrydUOIv1"
      },
      "execution_count": null,
      "outputs": []
    },
    {
      "cell_type": "code",
      "source": [
        "A = np.array([[1, 2],\n",
        "              [3, 4]])\n",
        "A_inv = np.linalg.inv(A)\n",
        "print(\"Original Matrix:\")\n",
        "print(A)\n",
        "print(\"\\nInverse Matrix:\")\n",
        "print(A_inv)"
      ],
      "metadata": {
        "colab": {
          "base_uri": "https://localhost:8080/"
        },
        "id": "2UZEx4jGOI2k",
        "outputId": "51f7d127-facd-40b0-d69f-8e83579241fc"
      },
      "execution_count": null,
      "outputs": [
        {
          "output_type": "stream",
          "name": "stdout",
          "text": [
            "Original Matrix:\n",
            "[[1 2]\n",
            " [3 4]]\n",
            "\n",
            "Inverse Matrix:\n",
            "[[-2.   1. ]\n",
            " [ 1.5 -0.5]]\n"
          ]
        }
      ]
    },
    {
      "cell_type": "markdown",
      "source": [
        "##Random number generation:"
      ],
      "metadata": {
        "id": "Wpsk_uyA0XFP"
      }
    },
    {
      "cell_type": "code",
      "source": [
        "# Generate a 1D array with 5 random numbers between 0 and 1\n",
        "random_numbers = np.random.rand(3)\n",
        "\n",
        "print(\"Random numbers from uniform distribution:\")\n",
        "print(random_numbers)\n"
      ],
      "metadata": {
        "id": "Ztb0t3kN0YJN",
        "colab": {
          "base_uri": "https://localhost:8080/"
        },
        "outputId": "446c3453-1e1b-4841-b861-4bdc56a0558d"
      },
      "execution_count": 7,
      "outputs": [
        {
          "output_type": "stream",
          "name": "stdout",
          "text": [
            "Random numbers from uniform distribution:\n",
            "[0.81388127 0.50227831 0.16609745]\n"
          ]
        }
      ]
    },
    {
      "cell_type": "code",
      "source": [
        "# Generate a 1D array with 5 random numbers from standard normal distribution\n",
        "random_numbers = np.random.randn(2)\n",
        "\n",
        "print(\"Random numbers from standard normal distribution:\")\n",
        "print(random_numbers)\n"
      ],
      "metadata": {
        "id": "hrLDJtmV0ak6",
        "colab": {
          "base_uri": "https://localhost:8080/"
        },
        "outputId": "a3cdfad9-d404-4d32-832b-6e79ce53199f"
      },
      "execution_count": 8,
      "outputs": [
        {
          "output_type": "stream",
          "name": "stdout",
          "text": [
            "Random numbers from standard normal distribution:\n",
            "[-0.2262892 -0.9823794]\n"
          ]
        }
      ]
    },
    {
      "cell_type": "code",
      "source": [
        "# Simulate 10 trials of a binomial experiment with 5 trials and success probability of 0.5\n",
        "n_trials = 10\n",
        "n = 5\n",
        "p = 0.5\n",
        "binomial_outcomes = np.random.binomial(n, p, size=n_trials,)\n",
        "\n",
        "print(\"Binomial outcomes for 10 trials:\")\n",
        "print(binomial_outcomes)"
      ],
      "metadata": {
        "colab": {
          "base_uri": "https://localhost:8080/"
        },
        "id": "pW0wKFRkGrBs",
        "outputId": "9e6ccd6e-4fd7-4d43-f86d-c5d450fa2e35"
      },
      "execution_count": 3,
      "outputs": [
        {
          "output_type": "stream",
          "name": "stdout",
          "text": [
            "Binomial outcomes for 10 trials:\n",
            "[3 1 4 3 4 4 3 4 3 4]\n"
          ]
        }
      ]
    },
    {
      "cell_type": "code",
      "source": [],
      "metadata": {
        "id": "4R-B8n6ZGx6P"
      },
      "execution_count": null,
      "outputs": []
    }
  ]
}